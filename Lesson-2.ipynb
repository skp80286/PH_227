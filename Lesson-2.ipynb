{
 "cells": [
  {
   "cell_type": "code",
   "execution_count": null,
   "id": "d702c636",
   "metadata": {},
   "outputs": [],
   "source": [
    "#Calculate square root of a number using the power operation\n",
    "a=25\n",
    "a**(0.5)"
   ]
  },
  {
   "cell_type": "code",
   "execution_count": null,
   "id": "94e02ac0",
   "metadata": {},
   "outputs": [],
   "source": [
    "#Calculating square root using math library\n",
    "import math\n",
    "math.sqrt(25)"
   ]
  },
  {
   "cell_type": "code",
   "execution_count": null,
   "id": "c2e836b7",
   "metadata": {},
   "outputs": [],
   "source": [
    "#Calculating square root using numpy\n",
    "import numpy as np\n",
    "np.sqrt(25)"
   ]
  },
  {
   "cell_type": "code",
   "execution_count": null,
   "id": "0f5a4c97",
   "metadata": {},
   "outputs": [],
   "source": [
    "#Introducing numpy arrays\n",
    "import numpy as np\n",
    "x=np.array([1,2,3])\n",
    "y=np.array([4,5,6])\n",
    "x+y"
   ]
  },
  {
   "cell_type": "code",
   "execution_count": null,
   "id": "f30444a9",
   "metadata": {},
   "outputs": [],
   "source": [
    "#We can also create a linear combination of arrays with arbitrary coefficients\n",
    "x+0.5*y\n"
   ]
  },
  {
   "cell_type": "code",
   "execution_count": null,
   "id": "3224b5de",
   "metadata": {},
   "outputs": [],
   "source": [
    "0.5*x+y"
   ]
  },
  {
   "cell_type": "code",
   "execution_count": null,
   "id": "4aca502e",
   "metadata": {},
   "outputs": [],
   "source": [
    "0.4*x+0.8*y"
   ]
  },
  {
   "cell_type": "code",
   "execution_count": null,
   "id": "0a001236",
   "metadata": {},
   "outputs": [],
   "source": [
    "#We can also take the square root of each array element\n",
    "x=np.array([1,4,9,16,25,36,49])\n",
    "np.sqrt(x)"
   ]
  },
  {
   "cell_type": "code",
   "execution_count": null,
   "id": "871a42e4",
   "metadata": {},
   "outputs": [],
   "source": [
    "#Let us create a matrix which is nothing but a 2D array\n",
    "x=np.array([[1,2,3],[4,5,6],[7,8,9]])\n",
    "x"
   ]
  },
  {
   "cell_type": "code",
   "execution_count": null,
   "id": "61a92fd4",
   "metadata": {},
   "outputs": [],
   "source": [
    "#For a given array, one can obtain its diemension using the ndim command\n",
    "x.ndim"
   ]
  },
  {
   "cell_type": "code",
   "execution_count": null,
   "id": "c5ac0fc3",
   "metadata": {},
   "outputs": [],
   "source": [
    "# We can determine the data type in an array using the dtype command\n",
    "x.dtype"
   ]
  },
  {
   "cell_type": "code",
   "execution_count": null,
   "id": "fdd41404",
   "metadata": {},
   "outputs": [],
   "source": [
    "# We can also specify the data type at the time of defining the array\n",
    "import numpy as np\n",
    "z=np.array([5,7,9,11,13],float)\n",
    "z"
   ]
  },
  {
   "cell_type": "code",
   "execution_count": null,
   "id": "e9f3085e",
   "metadata": {},
   "outputs": [],
   "source": [
    "z.dtype"
   ]
  },
  {
   "cell_type": "code",
   "execution_count": null,
   "id": "d2ea2165",
   "metadata": {},
   "outputs": [],
   "source": [
    "print(\"Square of the array:\\n\",z**2)"
   ]
  },
  {
   "cell_type": "code",
   "execution_count": null,
   "id": "d7ca1474",
   "metadata": {},
   "outputs": [],
   "source": [
    "#If we give any number in the array with a decimal, the data type changes\n",
    "x=np.array([[1.0,2,3],[4,5,6],[7,8,9]])\n",
    "x.dtype"
   ]
  },
  {
   "cell_type": "code",
   "execution_count": null,
   "id": "555ff57a",
   "metadata": {},
   "outputs": [],
   "source": [
    "#We can find the number of rows and columns in an array using the shape command\n",
    "x.shape"
   ]
  },
  {
   "cell_type": "code",
   "execution_count": null,
   "id": "f45c17b8",
   "metadata": {},
   "outputs": [],
   "source": [
    "#We can sum the elements of an array using two methods\n",
    "x=np.array([3,5,7,9,11])\n",
    "x.sum()"
   ]
  },
  {
   "cell_type": "code",
   "execution_count": null,
   "id": "70e2993d",
   "metadata": {},
   "outputs": [],
   "source": [
    "#In the second method, we put x as an argument in the np.sum function\n",
    "np.sum(x)"
   ]
  },
  {
   "cell_type": "code",
   "execution_count": null,
   "id": "e6e3b4ae",
   "metadata": {},
   "outputs": [],
   "source": [
    "#Does it work for higher-dimensional arrays\n",
    "y=np.array([[1,2,3],[4,5,6],[7,8,9]])\n",
    "np.sum(y)"
   ]
  },
  {
   "cell_type": "code",
   "execution_count": null,
   "id": "ae7835f6",
   "metadata": {},
   "outputs": [],
   "source": [
    "#Using the reshape command we can change the shape of an array\n",
    "x=np.array([3,5,7,9,11,13])\n",
    "print(\"Array before reshaping:\\n\",x)\n",
    "x_reshaped=x.reshape((2,3))\n",
    "print(\"Array after reshaping:\\n\",x_reshaped)"
   ]
  },
  {
   "cell_type": "code",
   "execution_count": null,
   "id": "975695a0",
   "metadata": {},
   "outputs": [],
   "source": [
    "#In Python, like C/C++, by default the array indices start with 0.\n",
    "#[1,1] element specifies the second element of the second row\n",
    "x_reshaped[1,1]"
   ]
  },
  {
   "cell_type": "code",
   "execution_count": null,
   "id": "455eee02",
   "metadata": {},
   "outputs": [],
   "source": [
    "#And [0,0] index implies the first element of the first row\n",
    "x_reshaped[0,0]"
   ]
  },
  {
   "cell_type": "code",
   "execution_count": null,
   "id": "29e789f5",
   "metadata": {},
   "outputs": [],
   "source": [
    "#And [1,2] implies the third element of the second row\n",
    "x_reshaped[1,2]"
   ]
  },
  {
   "cell_type": "code",
   "execution_count": null,
   "id": "6d91b072",
   "metadata": {},
   "outputs": [],
   "source": [
    "#The elements of a list can also be modified\n",
    "x=[1,2,3]\n",
    "print(\"List before modification\\n\",x)\n",
    "x[1]=0\n",
    "print(\"List after modification\\n\",x)"
   ]
  },
  {
   "cell_type": "code",
   "execution_count": null,
   "id": "26a73bc0",
   "metadata": {},
   "outputs": [],
   "source": [
    "#There is another entity called tuple, for which normal brackets are used, but its entries can't be modified.\n",
    "\n",
    "x=(1,2,3)\n",
    "print(\"Tuple before modification\\n\",x)\n"
   ]
  },
  {
   "cell_type": "code",
   "execution_count": null,
   "id": "e7bdbcd5",
   "metadata": {},
   "outputs": [],
   "source": [
    "#If we try to modify it, we get an error message\n",
    "x(1)=0\n",
    "print(\"Tuple after modification\\n\",x)"
   ]
  },
  {
   "cell_type": "code",
   "execution_count": null,
   "id": "e0940b31",
   "metadata": {},
   "outputs": [],
   "source": [
    "#Using the reshape command we can change the shape of an array\n",
    "import numpy as np\n",
    "x=np.array([3,5,7,9,11,13])\n",
    "print(\"Array before reshaping:\\n\",x)\n",
    "x_reshape=x.reshape((2,3))\n",
    "print(\"Array after reshaping:\\n\",x_reshape)\n",
    "x_reshape.shape , x_reshape.ndim , x_reshape.T"
   ]
  },
  {
   "cell_type": "code",
   "execution_count": null,
   "id": "e959f7d7",
   "metadata": {},
   "outputs": [],
   "source": []
  }
 ],
 "metadata": {
  "kernelspec": {
   "display_name": "Python 3 (ipykernel)",
   "language": "python",
   "name": "python3"
  },
  "language_info": {
   "codemirror_mode": {
    "name": "ipython",
    "version": 3
   },
   "file_extension": ".py",
   "mimetype": "text/x-python",
   "name": "python",
   "nbconvert_exporter": "python",
   "pygments_lexer": "ipython3",
   "version": "3.12.3"
  }
 },
 "nbformat": 4,
 "nbformat_minor": 5
}
