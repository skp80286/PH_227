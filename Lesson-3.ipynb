{
 "cells": [
  {
   "cell_type": "code",
   "execution_count": null,
   "id": "2b145750",
   "metadata": {},
   "outputs": [],
   "source": [
    "#Many a times, we need to generate random numbers\n",
    "#A good function for that purpose is the numpy function np.random.normal\n",
    "#Let us seek help on that\n",
    "import numpy as np\n",
    "np.random.normal?"
   ]
  },
  {
   "cell_type": "code",
   "execution_count": null,
   "id": "5c3ba6c9",
   "metadata": {},
   "outputs": [],
   "source": [
    "#np.random.normal can generate a user-specirid number of random numbers according to the normal distribution\n",
    "# in which user can specify the mean (loc) and the standard deviation (scale)\n",
    "# If the mean and the standard deviation are not specified, they are assumed to be 0 and 1, respectively\n",
    "# The commands below generate 40 random numbers with mean 0, and standard deviation 1\n",
    "import numpy as np\n",
    "x=np.random.normal(size=40)\n",
    "x"
   ]
  },
  {
   "cell_type": "code",
   "execution_count": null,
   "id": "9d7d4509",
   "metadata": {},
   "outputs": [],
   "source": [
    "#Now we generate 50 random numbers with mean=2, and standard deviation 3\n",
    "import numpy as np\n",
    "y=np.random.normal(loc=2,scale=3,size=50)\n",
    "y"
   ]
  },
  {
   "cell_type": "code",
   "execution_count": null,
   "id": "4530df05",
   "metadata": {},
   "outputs": [],
   "source": [
    "#The random numbers are generated in an array, we can sum them\n",
    "import numpy as np\n",
    "x=np.random.normal(loc=5,scale=2,size=30)\n",
    "y=np.random.normal(size=30)\n",
    "x+y"
   ]
  },
  {
   "cell_type": "code",
   "execution_count": null,
   "id": "a86cc3c7",
   "metadata": {},
   "outputs": [],
   "source": [
    "#Each time we call a random number generator with the same parameters, the numbers should be different\n",
    "#Let us verify that\n",
    "import numpy as np\n",
    "print(np.random.normal(loc=5,scale=2,size=5))\n",
    "print(np.random.normal(loc=5,scale=2,size=5))"
   ]
  },
  {
   "cell_type": "code",
   "execution_count": null,
   "id": "7256d4fb",
   "metadata": {},
   "outputs": [],
   "source": [
    "#This is because most random number generators are either seeded randomly, \n",
    "# or the clock time is used as the seed.\n",
    "# But if we want the same set of random numbers for the same parameters, we can use our own seed\n",
    "# which can be done using the function np.random.default_rng(). Let us check the following example\n",
    "import numpy as np\n",
    "rng = np.random.default_rng (1001)\n",
    "print(rng.normal(scale=3, size =5))\n",
    "rng2 = np.random.default_rng (1001)\n",
    "print(rng2.normal(scale=3, size =5))"
   ]
  },
  {
   "cell_type": "code",
   "execution_count": null,
   "id": "27df94a9",
   "metadata": {},
   "outputs": [],
   "source": [
    "#Calculating mean, variance, etc\n",
    "import numpy as np\n",
    "rng = np.random.default_rng (5)\n",
    "y = rng.normal(loc=1,scale=1,size=10)\n",
    "print(y)\n",
    "#Compute the mean\n",
    "print(\"Here comes the mean by two commands:\\n\",np.mean(y), y.mean())\n",
    "#Compute the variance and standard deviation\n",
    "print(\"Here comes the variance by three commands:\\n\",np.var(y), y.var(), np.mean ((y - y.mean ())**2))\n",
    "print(\"Here comes the standard deviation by two commands:\\n\",np.sqrt(np.var(y)), np.std(y))\n"
   ]
  },
  {
   "cell_type": "code",
   "execution_count": null,
   "id": "56038faf",
   "metadata": {},
   "outputs": [],
   "source": []
  }
 ],
 "metadata": {
  "kernelspec": {
   "display_name": "Python 3 (ipykernel)",
   "language": "python",
   "name": "python3"
  },
  "language_info": {
   "codemirror_mode": {
    "name": "ipython",
    "version": 3
   },
   "file_extension": ".py",
   "mimetype": "text/x-python",
   "name": "python",
   "nbconvert_exporter": "python",
   "pygments_lexer": "ipython3",
   "version": "3.12.3"
  }
 },
 "nbformat": 4,
 "nbformat_minor": 5
}
