{
 "cells": [
  {
   "cell_type": "code",
   "execution_count": null,
   "id": "6f2fc84c",
   "metadata": {},
   "outputs": [],
   "source": [
    "#In this notebook we consider functions\n",
    "import math\n",
    "# define the functions\n",
    "def func(ifunc,x):\n",
    "  if ifunc == 1:\n",
    "      return x*x - 5*x + 6\n",
    "  elif ifunc == 2:\n",
    "    return x*x*x + 2*x*x + 10*x -20\n",
    "  elif ifunc == 3:\n",
    "    return math.cos(x)-x\n",
    "  elif ifunc == 4:\n",
    "    return math.atan(x)-1      \n",
    "  else:\n",
    "    return math.tan(x)-(1/(1+x*x))\n",
    "#\n",
    "ii=int(input(\"Give an integer in the range 1-5 to choose the function to compute\"))\n",
    "xx=float(input(\"Give the value of x for which the function is to be computed\"))\n",
    "print(\"You gave ifunc = \",ii, \"and x =\",xx)\n",
    "print(\"The value of the function is =\",func(ii,xx))\n"
   ]
  },
  {
   "cell_type": "code",
   "execution_count": null,
   "id": "18f1fcd7",
   "metadata": {},
   "outputs": [],
   "source": [
    "# Below we implement the Newton-Raphson algorithm for calculating the roots of a single-variable equation\n",
    "# It uses the concepts that we learned so far such as input, function, looping, if-elif-if logic, etc.\n",
    "#\n",
    "import math\n",
    "# define the functions\n",
    "def func(ifunc,x):\n",
    "  if ifunc == 1:\n",
    "      return x*x - 5*x + 6\n",
    "  elif ifunc == 2:\n",
    "    return x*x*x + 2*x*x + 10*x -20\n",
    "  elif ifunc == 3:\n",
    "    return math.cos(x)-x\n",
    "  elif ifunc == 4:\n",
    "    return math.atan(x)-1      \n",
    "  else:\n",
    "    return math.tan(x)-(1/(1+x*x))\n",
    "#\n",
    "#derivative of the function\n",
    "#\n",
    "def dfunc(ifunc,x):\n",
    "  if ifunc == 1:\n",
    "      return 2*x - 5      \n",
    "  elif ifunc == 2:\n",
    "    return 3*x*x + 4*x + 10 \n",
    "  elif ifunc == 3:\n",
    "    return -math.sin(x)-1\n",
    "  elif ifunc == 4:\n",
    "    return 1/(1+x*x)\n",
    "  else:\n",
    "    return (1/(math.cos(x)*math.cos(x)))+((2*x)/((1+x*x)*(1+x*x)))\n",
    "# which function\n",
    "ifunc=int(input(\"Which equation to solve?\"))\n",
    "x0=float(input(\"Starting guess:\"))\n",
    "tol=float(input(\"Convergence Tolerance:\"))\n",
    "x1=50000\n",
    "count=0\n",
    "while abs(x1-x0) > tol:\n",
    "    if count > 0:\n",
    "      x0=x1\n",
    "    x1=x0-(func(ifunc,x0)/dfunc(ifunc,x0))\n",
    "    #print(\"x1=\",x1)\n",
    "    count+=1\n",
    "    if count>100:\n",
    "        print(\"No Convergence\")\n",
    "        break\n",
    "    \n",
    "print(\"Convergence Achieved After Iteration #:\",count)\n",
    "print (\"Root of the Equation=\",x0)"
   ]
  },
  {
   "cell_type": "code",
   "execution_count": null,
   "id": "1c7d92bb",
   "metadata": {},
   "outputs": [],
   "source": []
  }
 ],
 "metadata": {
  "kernelspec": {
   "display_name": "Python 3 (ipykernel)",
   "language": "python",
   "name": "python3"
  },
  "language_info": {
   "codemirror_mode": {
    "name": "ipython",
    "version": 3
   },
   "file_extension": ".py",
   "mimetype": "text/x-python",
   "name": "python",
   "nbconvert_exporter": "python",
   "pygments_lexer": "ipython3",
   "version": "3.12.3"
  }
 },
 "nbformat": 4,
 "nbformat_minor": 5
}
