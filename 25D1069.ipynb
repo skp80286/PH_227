{
 "cells": [
  {
   "cell_type": "markdown",
   "id": "c3085b1e",
   "metadata": {},
   "source": [
    "# Tutorial 2\n"
   ]
  },
  {
   "cell_type": "markdown",
   "id": "cfa184c0",
   "metadata": {},
   "source": [
    "## 1. Mean and variance"
   ]
  },
  {
   "cell_type": "code",
   "execution_count": 54,
   "id": "bd1e4b53",
   "metadata": {},
   "outputs": [
    {
     "data": {
      "text/plain": [
       "4"
      ]
     },
     "execution_count": 54,
     "metadata": {},
     "output_type": "execute_result"
    }
   ],
   "source": [
    "n = 0\n",
    "while n <= 0:\n",
    "    n = int(input(\"Enter a positive integer: \"))\n",
    "n"
   ]
  },
  {
   "cell_type": "code",
   "execution_count": 55,
   "id": "b18c8ce5",
   "metadata": {},
   "outputs": [
    {
     "name": "stdout",
     "output_type": "stream",
     "text": [
      "Array=[0.54070897 0.73918105 0.91600208 0.5444927 ]\n",
      "Mean=0.6851, Variance=0.0242\n"
     ]
    }
   ],
   "source": [
    "import numpy as np\n",
    "\n",
    "array = np.random.rand(n)\n",
    "print(f\"Array={array}\\nMean={array.mean():.4f}, Variance={array.var():.4f}\")"
   ]
  },
  {
   "cell_type": "markdown",
   "id": "6a12af5d",
   "metadata": {},
   "source": [
    "## 2. Sum of a series"
   ]
  },
  {
   "cell_type": "code",
   "execution_count": 56,
   "id": "9c61ed74",
   "metadata": {},
   "outputs": [
    {
     "name": "stdout",
     "output_type": "stream",
     "text": [
      "Calculation series of 4 elements with x=4.0\n",
      "Using while loop\n",
      "S = -0.2000\n",
      "####################\n",
      "Using for loop\n",
      "S = -0.2000\n"
     ]
    }
   ],
   "source": [
    "n = 0\n",
    "while n <= 0:\n",
    "    n = int(input(\"Enter the number of terms(n): \"))\n",
    "x = float(input(\"Enter the value of 'x': \"))\n",
    "print(f\"Calculation series of {n} elements with x={x}\")\n",
    "print(f\"Using while loop\")\n",
    "sum = 0\n",
    "i = 1\n",
    "while i <= n:\n",
    "    term = ((-1)**i) * x**(i/2.0)/(i*(i+1))\n",
    "    #print(f\"term for i={i} = {term:.2f}\")\n",
    "    sum += term\n",
    "    i += 1\n",
    "print(f\"S = {sum:.4f}\")\n",
    "print(\"#\"*20)\n",
    "print(f\"Using for loop\")\n",
    "sum = 0\n",
    "for ind in range(n):\n",
    "    i = ind + 1\n",
    "    term = (-1)**i * x**(i/2.0)/(i*(i+1))\n",
    "    #print(f\"term for i={i} = {term:.2f}\")\n",
    "    sum += term\n",
    "print(f\"S = {sum:.4f}\")\n"
   ]
  },
  {
   "cell_type": "markdown",
   "id": "414cf132",
   "metadata": {},
   "source": [
    "## 5. Plotting"
   ]
  },
  {
   "cell_type": "code",
   "execution_count": 60,
   "id": "eb7ded7c",
   "metadata": {},
   "outputs": [
    {
     "data": {
      "image/png": "[encoded data removed]",
      "text/plain": [
       "<Figure size 640x480 with 1 Axes>"
      ]
     },
     "metadata": {},
     "output_type": "display_data"
    }
   ],
   "source": [
    "import matplotlib.pyplot as plt\n",
    "import pandas as pd\n",
    "import numpy as np\n",
    "def func(i, x):\n",
    "    if i == 1:\n",
    "        return ( (x**2) + 2*x + 3)/(x + 20)\n",
    "    elif i == 2:\n",
    "        return (x**3) - 6*(x**2) + 4*x - 1 \n",
    "    elif i == 3:\n",
    "        return np.exp(x) - 1 + (x**2) - (x**3)\n",
    "    elif i == 4:\n",
    "        return 2* np.sin(x) + x/3 -4\n",
    "    else:\n",
    "        raise ValueError('function #{i} does not exist!')\n",
    "\n",
    "f = int(input(\"Enter the function to plot [1-4]: \"))\n",
    "xmin = float(input(\"Enter the min value of x: \"))\n",
    "xmax = None\n",
    "while(xmax is None or xmax <= xmin):\n",
    "    xmax = float(input(f\"Enter the max value of x (> {xmin}): \"))\n",
    "n = None\n",
    "while(n is None or n < 0):\n",
    "    n = int(input(\"Enter the number of points to plot (> 0): \"))\n",
    "\n",
    "X = np.linspace(xmin, xmax, n)\n",
    "Y = [func(f, x) for x in X]\n",
    "\n",
    "plt.figure()\n",
    "plt.plot(X, Y)\n",
    "plt.show()\n",
    "pd.DataFrame([X,Y]).to_csv('output.csv')\n",
    "\n"
   ]
  },
  {
   "cell_type": "markdown",
   "id": "b4d399ee",
   "metadata": {},
   "source": [
    "## 3. cos function"
   ]
  },
  {
   "cell_type": "code",
   "execution_count": null,
   "id": "f54bc0af",
   "metadata": {},
   "outputs": [],
   "source": [
    "x = float(input(\"Enter the value of 'x': \"))\n",
    "tol = float(input(\"Enter the tolerance: \"))\n",
    "print(f\"Calculating cosine of {x} within tolerance of {tol}\")\n",
    "print(f\"Using while loop\")\n",
    "sum = 0\n",
    "i = 0\n",
    "term = 0\n",
    "while term > tol:\n",
    "    term = ((-1)**i) * x**(i/2.0)/(i*(i+1))\n",
    "    #print(f\"term for i={i} = {term:.2f}\")\n",
    "    sum += term\n",
    "    i += 1\n",
    "print(f\"S = {sum:.4f}\")\n",
    "print(\"#\"*20)\n",
    "print(f\"Using for loop\")\n",
    "sum = 0\n",
    "for ind in range(n):\n",
    "    i = ind + 1\n",
    "    term = (-1)**i * x**(i/2.0)/(i*(i+1))\n",
    "    #print(f\"term for i={i} = {term:.2f}\")\n",
    "    sum += term\n",
    "print(f\"S = {sum:.4f}\")"
   ]
  }
 ],
 "metadata": {
  "kernelspec": {
   "display_name": "base",
   "language": "python",
   "name": "python3"
  },
  "language_info": {
   "codemirror_mode": {
    "name": "ipython",
    "version": 3
   },
   "file_extension": ".py",
   "mimetype": "text/x-python",
   "name": "python",
   "nbconvert_exporter": "python",
   "pygments_lexer": "ipython3",
   "version": "3.12.2"
  }
 },
 "nbformat": 4,
 "nbformat_minor": 5
}
