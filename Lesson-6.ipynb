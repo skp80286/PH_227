{
 "cells": [
  {
   "cell_type": "code",
   "execution_count": null,
   "id": "3c30da3d",
   "metadata": {},
   "outputs": [],
   "source": [
    "#In this notebook we will use the matplotlib library used for plotting. The first example is of making an (x,y)\n",
    "# line plot\n",
    "#\n",
    "import matplotlib.pyplot as plt\n",
    "import numpy as np\n",
    "x = np.random.standard_normal (100)\n",
    "y = np.random.standard_normal (100)\n",
    "plt.plot(x, y);"
   ]
  },
  {
   "cell_type": "code",
   "execution_count": null,
   "id": "b18e6e4a",
   "metadata": {},
   "outputs": [],
   "source": [
    "#Next we plot the same data as a scatter plot\n",
    "#\n",
    "import matplotlib.pyplot as plt\n",
    "import numpy as np\n",
    "x = np.random.standard_normal (100)\n",
    "y = np.random.standard_normal (100)\n",
    "plt.scatter(x, y);"
   ]
  },
  {
   "cell_type": "code",
   "execution_count": null,
   "id": "228c43e7",
   "metadata": {},
   "outputs": [],
   "source": [
    "#Next we plot the same data as a scatter plot, along with the choice to change the color and the marker\n",
    "import matplotlib.pyplot as plt\n",
    "import numpy as np\n",
    "x = np.random.standard_normal (100)\n",
    "y = np.random.standard_normal (100)\n",
    "plt.scatter(x, y, c='green', marker='s');"
   ]
  },
  {
   "cell_type": "code",
   "execution_count": null,
   "id": "bfdb4fea",
   "metadata": {},
   "outputs": [],
   "source": [
    "import matplotlib.pyplot as plt\n",
    "import numpy as np\n",
    "x = np.random.standard_normal (100)\n",
    "y = np.random.standard_normal (100)\n",
    "plt.scatter(x, y, c='magenta', marker='D');\n",
    "plt.xlabel(\"X-axis\")\n",
    "plt.ylabel(\"Y-axis\")\n",
    "plt.title(\"Scatter plot of X vs Y\");"
   ]
  },
  {
   "cell_type": "code",
   "execution_count": null,
   "id": "040e08eb",
   "metadata": {},
   "outputs": [],
   "source": [
    "import matplotlib.pyplot as plt\n",
    "import numpy as np\n",
    "plt.figure(figsize=(8,8))\n",
    "x = np.random.standard_normal (100)\n",
    "y = np.random.standard_normal (100)\n",
    "plt.scatter(x, y, c='magenta', marker='D');\n",
    "plt.xlabel(\"X-axis\")\n",
    "plt.ylabel(\"Y-axis\")\n",
    "plt.title(\"Scatter plot of X vs Y\");\n",
    "plt.savefig(\"fig_scatter.png\", dpi =400)\n",
    "plt.savefig(\"fig_scatter.pdf\", dpi =200)\n",
    "plt.savefig(\"fig_scatter.jpg\", dpi=300)\n",
    "plt.show()"
   ]
  },
  {
   "cell_type": "code",
   "execution_count": null,
   "id": "8661cdbb",
   "metadata": {},
   "outputs": [],
   "source": [
    "#Next, we learn how to plot a user-defined function\n",
    "import matplotlib.pyplot as plt\n",
    "import numpy as np\n",
    "def my_func(x):\n",
    "        return x**2 - 5*x + 6\n",
    "#\n",
    "plt.figure(figsize=(8,8))\n",
    "# 100 points between 0 and 5\n",
    "x_val = np.linspace(0, 5, 100) \n",
    "y_val = my_func(x_val)\n",
    "plt.plot(x_val, y_val)\n",
    "plt.xlabel(\"x\")\n",
    "plt.ylabel(\"f(x)\")\n",
    "plt.title(\"Plot of f(x)\")"
   ]
  },
  {
   "cell_type": "code",
   "execution_count": null,
   "id": "873fff71",
   "metadata": {},
   "outputs": [],
   "source": [
    "#Let us learn how we can make contour plots using matplotlib. A contour plot is the plot of a plain (say xy-plain) of \n",
    "#a 3D (x,y,z) plot.\n",
    "import matplotlib.pyplot as plt\n",
    "import numpy as np\n",
    "#\n",
    "plt.figure(figsize=(8,8))\n",
    "# 50 points between -pi and pi\n",
    "x = np.linspace(-np.pi , np.pi , 50)\n",
    "y = x\n",
    "X,Y=np.meshgrid(x,y)\n",
    "Z = np.sin(np.sqrt(X**2 + Y**2))\n",
    "CS=plt.contour(X,Y,Z)\n",
    "# Label the contour lines\n",
    "plt.clabel(CS, inline=True, fontsize=8)\n",
    "# Add a title and show the plot\n",
    "plt.xlabel(\"x\")\n",
    "plt.ylabel(\"y\")\n",
    "plt.title(\"Contour plot\")\n",
    "plt.show()"
   ]
  },
  {
   "cell_type": "code",
   "execution_count": null,
   "id": "a786e193",
   "metadata": {},
   "outputs": [],
   "source": [
    "#Next, we learn how to make a 3D scatter plot\n",
    "#\n",
    "import matplotlib.pyplot as plt\n",
    "import numpy as np\n",
    "from mpl_toolkits import mplot3d\n",
    "#\n",
    "#To create a 3D plotting environment, we need to specify projection='3d' when creating \n",
    "# the axes.\n",
    "#\n",
    "fig = plt.figure()\n",
    "ax = plt.axes(projection='3d')\n",
    "#\n",
    "# We need three arrays of data representing the X, Y, and Z coordinates.\n",
    "#\n",
    "x = np.random.rand(100)\n",
    "y = np.random.rand(100)\n",
    "z = np.random.rand(100)\n",
    "#\n",
    "# Create a 3D scatter plot\n",
    "#\n",
    "ax.scatter3D(x, y, z, color='blue')\n",
    "#\n",
    "# Label the axes, etc.\n",
    "#\n",
    "ax.set_xlabel('X-axis')\n",
    "ax.set_ylabel('Y-axis')\n",
    "ax.set_zlabel('Z-axis')\n",
    "ax.set_title('3D Scatter Plot')\n",
    "# Show plot\n",
    "plt.show()"
   ]
  },
  {
   "cell_type": "code",
   "execution_count": null,
   "id": "fe0c2138",
   "metadata": {},
   "outputs": [],
   "source": [
    "#Next, we learn how to make a 3D surface plot\n",
    "#\n",
    "import matplotlib.pyplot as plt\n",
    "import numpy as np\n",
    "from mpl_toolkits import mplot3d\n",
    "#\n",
    "#To create a 3D plotting environment, we need to specify projection='3d' when creating \n",
    "# the axes.\n",
    "#\n",
    "fig = plt.figure()\n",
    "ax = plt.axes(projection='3d')\n",
    "#\n",
    "# 100 points between -pi and pi\n",
    "#\n",
    "x = np.linspace(-np.pi , np.pi , 100)\n",
    "y = x\n",
    "X,Y=np.meshgrid(x,y)\n",
    "Z = np.sin(np.sqrt(X**2 + Y**2))\n",
    "#\n",
    "# Create a 3D surface plot\n",
    "#\n",
    "ax.plot_surface(X, Y, Z)\n",
    "#\n",
    "# Label the axes, etc.\n",
    "#\n",
    "ax.set_xlabel('X-axis')\n",
    "ax.set_ylabel('Y-axis')\n",
    "ax.set_zlabel('Z-axis')\n",
    "ax.set_title('3D Surface Plot')\n",
    "# Show plot\n",
    "plt.show()"
   ]
  },
  {
   "cell_type": "code",
   "execution_count": null,
   "id": "a3a5bf18",
   "metadata": {},
   "outputs": [],
   "source": []
  }
 ],
 "metadata": {
  "kernelspec": {
   "display_name": "Python 3 (ipykernel)",
   "language": "python",
   "name": "python3"
  },
  "language_info": {
   "codemirror_mode": {
    "name": "ipython",
    "version": 3
   },
   "file_extension": ".py",
   "mimetype": "text/x-python",
   "name": "python",
   "nbconvert_exporter": "python",
   "pygments_lexer": "ipython3",
   "version": "3.12.3"
  }
 },
 "nbformat": 4,
 "nbformat_minor": 5
}
