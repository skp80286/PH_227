{
 "cells": [
  {
   "cell_type": "code",
   "execution_count": null,
   "id": "044b34eb",
   "metadata": {},
   "outputs": [],
   "source": [
    "# In this notebook we will study file handling in Python.\n",
    "# First we will study how to handle a CSV file using the CSV module\n",
    "# Method 1: Using csv.reader (reads rows as lists)\n",
    "#\n",
    "# The input file Auto.csv has a header and 397 data points arranged row-wise\n",
    "# with 9 features/descriptors explained as follows:\n",
    "#\n",
    "# mpg: miles per gallon\n",
    "# cylinders: Number of cylinders between 4 and 8\n",
    "# displacement: Engine displacement (cu. inches)\n",
    "# horsepower: Engine horsepower\n",
    "# weight: Vehicle weight (lbs.)\n",
    "# acceleration: Time to accelerate from 0 to 60 mph (sec.)\n",
    "# year: Model year (modulo 100)\n",
    "# origin: Origin of car (1. American, 2. European, 3. Japanese)\n",
    "# name: Vehicle name\n",
    "#\n",
    "import csv\n",
    "filename = \"Auto.csv\"  # Replace with your CSV file name\n",
    "with open(filename, 'r', newline='') as csvfile:\n",
    "    csv_reader = csv.reader(csvfile)\n",
    "#\n",
    "# If your CSV has a header row and you want to skip it:\n",
    "#\n",
    "    header = next(csv_reader)\n",
    "    print(f\"Header: {header}\")\n",
    "\n",
    "# Iterate through the remaining rows\n",
    "    for row in csv_reader:\n",
    "        print(row)"
   ]
  },
  {
   "cell_type": "code",
   "execution_count": null,
   "id": "a844be4d",
   "metadata": {},
   "outputs": [],
   "source": [
    "#Now we read the same file as dictionaries instead of lists\n",
    "import csv\n",
    "filename = \"Auto.csv\"  # Replace with your CSV file name\n",
    "with open(filename, 'r', newline='') as csvfile:\n",
    "        csvreader = csv.DictReader(csvfile)\n",
    "\n",
    "        for row in csvreader:\n",
    "            print(row)  # Each row is a dictionary where keys are header names\n",
    " "
   ]
  },
  {
   "cell_type": "code",
   "execution_count": null,
   "id": "66baefe9",
   "metadata": {},
   "outputs": [],
   "source": [
    "#Let us now use Pandas library for reading the .csv file and for subsequent data manipulation\n",
    "#\n",
    "import pandas as pd\n",
    "import numpy as np\n",
    "Auto = pd.read_csv('Auto.csv')\n",
    "Auto"
   ]
  },
  {
   "cell_type": "code",
   "execution_count": null,
   "id": "47ac0fb6",
   "metadata": {},
   "outputs": [],
   "source": [
    "import pandas as pd\n",
    "import numpy as np\n",
    "Auto = pd.read_csv('Auto.csv')\n",
    "Auto['horsepower']\n"
   ]
  },
  {
   "cell_type": "code",
   "execution_count": null,
   "id": "6cddae11",
   "metadata": {},
   "outputs": [],
   "source": [
    "# Using np.unique function, we can eliminate the repeated values\n",
    "#\n",
    "import pandas as pd\n",
    "import numpy as np\n",
    "Auto = pd.read_csv('Auto.csv')\n",
    "np.unique(Auto['horsepower'])"
   ]
  },
  {
   "cell_type": "code",
   "execution_count": null,
   "id": "8c643e0b",
   "metadata": {},
   "outputs": [],
   "source": [
    "#We see that ? is being used to encode some missing values. Therefore, we declare '?'\n",
    "#as NaN (not a number) or like a whitespace or a comma (,)\n",
    "import numpy as np\n",
    "Auto = pd.read_csv('Auto.csv',na_values =['?'])\n",
    "Auto['horsepower'].sum()"
   ]
  },
  {
   "cell_type": "code",
   "execution_count": null,
   "id": "f33fb4cc",
   "metadata": {},
   "outputs": [],
   "source": [
    "import pandas as pd\n",
    "import numpy as np\n",
    "Auto = pd.read_csv('Auto.csv',na_values =['?'])\n",
    "Auto.shape"
   ]
  },
  {
   "cell_type": "code",
   "execution_count": null,
   "id": "8009434d",
   "metadata": {},
   "outputs": [],
   "source": [
    "# Now we declare a new data type Auto_new created by removing all the rows carrying ?\n",
    "import pandas as pd\n",
    "import numpy as np\n",
    "Auto = pd.read_csv('Auto.csv',na_values =['?'])\n",
    "Auto_new = Auto.dropna ()\n",
    "Auto_new.shape"
   ]
  },
  {
   "cell_type": "code",
   "execution_count": null,
   "id": "4a70a248",
   "metadata": {},
   "outputs": [],
   "source": [
    "# We write down the column headers for the corrected data\n",
    "#\n",
    "import pandas as pd\n",
    "import numpy as np\n",
    "Auto = pd.read_csv('Auto.csv',na_values =['?'])\n",
    "Auto_new = Auto.dropna ()\n",
    "Auto = Auto_new\n",
    "Auto.columns"
   ]
  },
  {
   "cell_type": "code",
   "execution_count": null,
   "id": "4db9444f",
   "metadata": {},
   "outputs": [],
   "source": [
    "# Let us write out the first three rows of the new data \n",
    "#\n",
    "import pandas as pd\n",
    "import numpy as np\n",
    "Auto = pd.read_csv('Auto.csv',na_values =['?'])\n",
    "Auto_new = Auto.dropna ()\n",
    "Auto = Auto_new\n",
    "Auto.columns\n",
    "Auto [:3]"
   ]
  },
  {
   "cell_type": "code",
   "execution_count": null,
   "id": "a3979da3",
   "metadata": {},
   "outputs": [],
   "source": [
    "#Here we print out those rows in which the car model was more recent\n",
    "#than 1980\n",
    "import pandas as pd\n",
    "import numpy as np\n",
    "Auto = pd.read_csv('Auto.csv',na_values =['?'])\n",
    "Auto_new = Auto.dropna ()\n",
    "Auto = Auto_new\n",
    "idx_80 = Auto['year'] > 80\n",
    "Auto[idx_80]"
   ]
  },
  {
   "cell_type": "code",
   "execution_count": null,
   "id": "c94e2842",
   "metadata": {},
   "outputs": [],
   "source": [
    "#We can also print out the data of a few selected columns\n",
    "#than 1980\n",
    "import pandas as pd\n",
    "import numpy as np\n",
    "Auto = pd.read_csv('Auto.csv',na_values =['?'])\n",
    "Auto_new = Auto.dropna ()\n",
    "Auto = Auto_new\n",
    "Auto [['mpg', 'horsepower']]"
   ]
  },
  {
   "cell_type": "code",
   "execution_count": null,
   "id": "55995ec9",
   "metadata": {},
   "outputs": [],
   "source": [
    "#There are a huge number of functions in Pandas which are useful for data manipulation\n",
    "#I urge you to explore those on your own.\n",
    "#Here we learn how to write the data in a csv file using Pandas\n",
    "# First, we have to convert the given data into a dataframe, and then output that \n",
    "# data using 'to_csv' command\n",
    "import pandas as pd\n",
    "import numpy as np\n",
    "Auto = pd.read_csv('Auto.csv',na_values =['?'])\n",
    "Auto_new = Auto.dropna ()\n",
    "Auto = Auto_new\n",
    "#Now the new corrected file is converted into a dataframe\n",
    "df = pd.DataFrame(Auto)\n",
    "#The dataframe is written into a new file called Auto_new.csv\n",
    "df.to_csv('Auto_new.csv')"
   ]
  },
  {
   "cell_type": "code",
   "execution_count": null,
   "id": "2f3b9df5",
   "metadata": {},
   "outputs": [],
   "source": []
  }
 ],
 "metadata": {
  "kernelspec": {
   "display_name": "Python 3 (ipykernel)",
   "language": "python",
   "name": "python3"
  },
  "language_info": {
   "codemirror_mode": {
    "name": "ipython",
    "version": 3
   },
   "file_extension": ".py",
   "mimetype": "text/x-python",
   "name": "python",
   "nbconvert_exporter": "python",
   "pygments_lexer": "ipython3",
   "version": "3.12.3"
  }
 },
 "nbformat": 4,
 "nbformat_minor": 5
}
