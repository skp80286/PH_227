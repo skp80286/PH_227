{
 "cells": [
  {
   "cell_type": "markdown",
   "id": "6612b27f",
   "metadata": {},
   "source": [
    "# 1. Rectangle"
   ]
  },
  {
   "cell_type": "code",
   "execution_count": null,
   "id": "0bc9a5a2",
   "metadata": {},
   "outputs": [
    {
     "name": "stdout",
     "output_type": "stream",
     "text": [
      "The perimeter of the rectangle is: 12.0 units\n",
      "The area of the rectangle with length 2.0 and breadth 4.0 is: 8.0 sq-units\n"
     ]
    }
   ],
   "source": [
    "length = float(input('Enter the length of the rectangle: '))\n",
    "breadth = float(input('Enter the breadth of the rectangle: '))\n",
    "perimeter = 2*(length + breadth)\n",
    "print(f'The perimeter of the rectangle is: {perimeter} units')\n",
    "area = length * breadth\n",
    "print(f'The area of the rectangle with length {length} and breadth {breadth} is: {area} sq-units')"
   ]
  },
  {
   "cell_type": "markdown",
   "id": "e96a2802",
   "metadata": {},
   "source": [
    "# 2. Quadratic equation"
   ]
  },
  {
   "cell_type": "code",
   "execution_count": 16,
   "id": "ecd23ddb",
   "metadata": {},
   "outputs": [
    {
     "name": "stdout",
     "output_type": "stream",
     "text": [
      "The coefficients for the quadtratic equation are: a=1.0, b=-8.0 and c=16.0\n",
      "The equation has a single solution (double root): 4.00\n"
     ]
    }
   ],
   "source": [
    "import math\n",
    "\n",
    "a = float(input('Enter the value of coefficient \"a\": '))\n",
    "b = float(input('Enter the value of coefficient \"b\": '))\n",
    "c = float(input('Enter the value of coefficient \"c\": '))\n",
    "\n",
    "print(f'The coefficients for the quadtratic equation are: a={a}, b={b} and c={c}')\n",
    "determinant = b**2 - 4*a*c\n",
    "\n",
    "if determinant == 0:\n",
    "    double_root = -b/(2.0*a)\n",
    "    print(f'The equation has a single solution (double root): {double_root:.2f}')\n",
    "elif determinant > 0:\n",
    "    sqroot = math.sqrt(determinant)\n",
    "    root1 = (-b + sqroot)/(2.0*a)\n",
    "    root2 = (-b - sqroot)/(2.0*a)\n",
    "    print(f'The equation has two real roots: {root1:.2f} and {root2:.2f}')\n",
    "else:\n",
    "    sqroot = math.sqrt(-determinant)\n",
    "    real_part = -b/(2.0*a)\n",
    "    imaginary_part = sqroot/(2.0*a)\n",
    "    print(f'The equation has two complex roots: {real_part:.2f}+i{imaginary_part:.2f} and {real_part:.2f}-i{imaginary_part:.2f}')\n"
   ]
  },
  {
   "cell_type": "markdown",
   "id": "b760531b",
   "metadata": {},
   "source": [
    "# 3. Reverse an integer"
   ]
  },
  {
   "cell_type": "code",
   "execution_count": 27,
   "id": "846d8640",
   "metadata": {},
   "outputs": [
    {
     "name": "stdout",
     "output_type": "stream",
     "text": [
      "Your input is: 836\n",
      "digits=[6, 3, 8]\n",
      "Reversed integer: 638\n"
     ]
    }
   ],
   "source": [
    "a = int(input('Enter an integer to reverse: '))\n",
    "print(f\"Your input is: {a}\")\n",
    "rem = a\n",
    "digits = []\n",
    "\n",
    "while rem > 0:\n",
    "    digit = rem % 10\n",
    "    digits.append(digit)\n",
    "    rem = int(rem / 10)\n",
    "print(f'digits={digits}')\n",
    "\n",
    "reversed = 0\n",
    "placevalue = 10**(len(digits)-1)\n",
    "for digit in digits:\n",
    "    reversed +=  digit * placevalue\n",
    "    placevalue = int(placevalue/10)\n",
    "\n",
    "print(f'Reversed integer: {reversed}')\n",
    "\n",
    "\n",
    "\n",
    "    \n",
    "\n"
   ]
  },
  {
   "cell_type": "markdown",
   "id": "ce00e8e2",
   "metadata": {},
   "source": [
    "# 4. Sort"
   ]
  },
  {
   "cell_type": "code",
   "execution_count": 33,
   "id": "89bd3aaa",
   "metadata": {},
   "outputs": [
    {
     "name": "stdout",
     "output_type": "stream",
     "text": [
      "Input list: [4.5, 3.4, 2.3, -8.0, -9.2]\n",
      "Sorted list using code: [-9.2, -8.0, 2.3, 3.4, 4.5]\n",
      "Sorted list using numpy: [-9.2 -8.   2.3  3.4  4.5]\n"
     ]
    }
   ],
   "source": [
    "import numpy as np\n",
    "def sort(numbers):\n",
    "    sorted = numbers\n",
    "    while True:\n",
    "        swaps = 0\n",
    "        for i in range(len(numbers)-1):\n",
    "            if sorted[i] > sorted[i+1]:\n",
    "                tmp = sorted[i]\n",
    "                sorted[i] = sorted[i+1]\n",
    "                sorted[i+1] = tmp\n",
    "                swaps += 1\n",
    "        if swaps == 0:\n",
    "            break\n",
    "    return sorted\n",
    "numbers=[]\n",
    "while True:\n",
    "    num = float(input('Enter a number (-999 to stop): '))\n",
    "    if num == -999:\n",
    "        break\n",
    "    numbers.append(num)\n",
    "\n",
    "print(f\"Input list: {numbers}\")\n",
    "sorted_list = sort(numbers)\n",
    "print(f\"Sorted list using code: {sorted_list}\")\n",
    "sorted_list_np = np.sort(numbers)\n",
    "print(f\"Sorted list using numpy: {sorted_list_np}\")\n",
    "\n",
    "\n"
   ]
  },
  {
   "cell_type": "markdown",
   "id": "bc113b98",
   "metadata": {},
   "source": [
    "# 5. Matrix multiplication\n"
   ]
  },
  {
   "cell_type": "code",
   "execution_count": 32,
   "id": "8d6c875e",
   "metadata": {},
   "outputs": [
    {
     "name": "stdout",
     "output_type": "stream",
     "text": [
      "Matrix A : [[0. 1.]\n",
      " [1. 2.]]\n",
      "Matrix B : [[ 0. -1.]\n",
      " [ 1.  0.]]\n",
      "Matrix C calculated using equation : [[ 1.  0.]\n",
      " [ 2. -1.]]\n",
      "Matrix C calculated using numpy : [[ 1.  0.]\n",
      " [ 2. -1.]]\n"
     ]
    }
   ],
   "source": [
    "import numpy as np\n",
    "\n",
    "n = int(input('Enter the dimension for an n x n matrices: '))\n",
    "matrixA = np.zeros(shape=(n,n))\n",
    "matrixB = np.zeros(shape=(n,n))\n",
    "for i in range(n):\n",
    "    for j in range(n):\n",
    "        matrixA[i,j] = i+j\n",
    "        matrixB[i,j] = i-j\n",
    "\n",
    "print(f\"Matrix A : {matrixA}\")\n",
    "print(f\"Matrix B : {matrixB}\")\n",
    "matrixC = np.zeros(shape=(n,n))\n",
    "for i in range(n):\n",
    "    for j in range(n):\n",
    "        for k in range(n):\n",
    "            matrixC[i,j] += matrixA[i,k]*matrixB[k,j]\n",
    "print(f\"Matrix C calculated using equation : {matrixC}\")\n",
    "matrixC_np = np.matmul(matrixA, matrixB)\n",
    "print(f\"Matrix C calculated using numpy : {matrixC_np}\")\n"
   ]
  }
 ],
 "metadata": {
  "kernelspec": {
   "display_name": "base",
   "language": "python",
   "name": "python3"
  },
  "language_info": {
   "codemirror_mode": {
    "name": "ipython",
    "version": 3
   },
   "file_extension": ".py",
   "mimetype": "text/x-python",
   "name": "python",
   "nbconvert_exporter": "python",
   "pygments_lexer": "ipython3",
   "version": "3.12.2"
  }
 },
 "nbformat": 4,
 "nbformat_minor": 5
}
