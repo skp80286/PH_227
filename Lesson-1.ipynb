{
 "cells": [
  {
   "cell_type": "code",
   "execution_count": null,
   "id": "96a15d58",
   "metadata": {},
   "outputs": [],
   "source": [
    "print('Please fit a model with ',9, 'variables ')"
   ]
  },
  {
   "cell_type": "code",
   "execution_count": null,
   "id": "618083d6",
   "metadata": {},
   "outputs": [],
   "source": [
    "print('My name is Alok Shukla')"
   ]
  },
  {
   "cell_type": "code",
   "execution_count": null,
   "id": "1e6a47b7",
   "metadata": {},
   "outputs": [],
   "source": [
    "6+7"
   ]
  },
  {
   "cell_type": "code",
   "execution_count": null,
   "id": "1d95d06a",
   "metadata": {},
   "outputs": [],
   "source": [
    "6-7"
   ]
  },
  {
   "cell_type": "code",
   "execution_count": null,
   "id": "6a67df81",
   "metadata": {
    "scrolled": true
   },
   "outputs": [],
   "source": [
    "7-6"
   ]
  },
  {
   "cell_type": "code",
   "execution_count": null,
   "id": "a60cb487",
   "metadata": {},
   "outputs": [],
   "source": [
    "3*9"
   ]
  },
  {
   "cell_type": "code",
   "execution_count": null,
   "id": "5b6b043c",
   "metadata": {},
   "outputs": [],
   "source": [
    "(-9)*4"
   ]
  },
  {
   "cell_type": "code",
   "execution_count": null,
   "id": "a7cfc9eb",
   "metadata": {},
   "outputs": [],
   "source": [
    "8/2"
   ]
  },
  {
   "cell_type": "code",
   "execution_count": null,
   "id": "ad5d0913",
   "metadata": {},
   "outputs": [],
   "source": [
    "8/3"
   ]
  },
  {
   "cell_type": "code",
   "execution_count": null,
   "id": "cfdcc313",
   "metadata": {},
   "outputs": [],
   "source": [
    "a=3\n",
    "b=4\n",
    "a+b"
   ]
  },
  {
   "cell_type": "code",
   "execution_count": null,
   "id": "39425afb",
   "metadata": {},
   "outputs": [],
   "source": [
    "b/a"
   ]
  },
  {
   "cell_type": "code",
   "execution_count": null,
   "id": "ef3c0f86",
   "metadata": {},
   "outputs": [],
   "source": [
    "a/b"
   ]
  },
  {
   "cell_type": "code",
   "execution_count": null,
   "id": "6b700510",
   "metadata": {},
   "outputs": [],
   "source": [
    "a*b"
   ]
  },
  {
   "cell_type": "code",
   "execution_count": null,
   "id": "ccc61896",
   "metadata": {},
   "outputs": [],
   "source": [
    "a**b"
   ]
  },
  {
   "cell_type": "code",
   "execution_count": null,
   "id": "71da275a",
   "metadata": {},
   "outputs": [],
   "source": [
    "\"Hello\" + \" \" + \"World\""
   ]
  },
  {
   "cell_type": "code",
   "execution_count": null,
   "id": "44622085",
   "metadata": {},
   "outputs": [],
   "source": [
    "\"Dunia \" + \"Ko\" + \" Salaam\""
   ]
  },
  {
   "cell_type": "code",
   "execution_count": null,
   "id": "7520630b",
   "metadata": {},
   "outputs": [],
   "source": [
    "\"Dunia \" + \"Ko\" + \" Pranaam\""
   ]
  },
  {
   "cell_type": "code",
   "execution_count": null,
   "id": "6d7ed537",
   "metadata": {},
   "outputs": [],
   "source": [
    "# Now we are introducing a list which is similar to an array\n",
    "x=[1,2,3]\n",
    "x\n"
   ]
  },
  {
   "cell_type": "code",
   "execution_count": null,
   "id": "341220fc",
   "metadata": {},
   "outputs": [],
   "source": [
    "#Now we are going to join two lists\n",
    "y=[4,5,6,7]\n",
    "x+y"
   ]
  },
  {
   "cell_type": "code",
   "execution_count": null,
   "id": "d349efa2",
   "metadata": {},
   "outputs": [],
   "source": [
    "y+x"
   ]
  },
  {
   "cell_type": "code",
   "execution_count": null,
   "id": "71d1306c",
   "metadata": {},
   "outputs": [],
   "source": []
  }
 ],
 "metadata": {
  "kernelspec": {
   "display_name": "Python 3 (ipykernel)",
   "language": "python",
   "name": "python3"
  },
  "language_info": {
   "codemirror_mode": {
    "name": "ipython",
    "version": 3
   },
   "file_extension": ".py",
   "mimetype": "text/x-python",
   "name": "python",
   "nbconvert_exporter": "python",
   "pygments_lexer": "ipython3",
   "version": "3.12.3"
  }
 },
 "nbformat": 4,
 "nbformat_minor": 5
}
