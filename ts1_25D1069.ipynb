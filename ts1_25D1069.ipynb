{
 "cells": [
  {
   "cell_type": "markdown",
   "id": "6612b27f",
   "metadata": {},
   "source": [
    "# 1. Rectangle"
   ]
  },
  {
   "cell_type": "code",
   "execution_count": null,
   "id": "0bc9a5a2",
   "metadata": {},
   "outputs": [
    {
     "name": "stdout",
     "output_type": "stream",
     "text": [
      "The perimeter of the rectangle is: 12.0 units\n",
      "The area of the rectangle with length 2.0 and breadth 4.0 is: 8.0 sq-units\n"
     ]
    }
   ],
   "source": [
    "length = float(input('Enter the length of the rectangle: '))\n",
    "breadth = float(input('Enter the breadth of the rectangle: '))\n",
    "perimeter = 2*(length + breadth)\n",
    "print(f'The perimeter of the rectangle is: {perimeter} units')\n",
    "area = length * breadth\n",
    "print(f'The area of the rectangle with length {length} and breadth {breadth} is: {area} sq-units')"
   ]
  },
  {
   "cell_type": "markdown",
   "id": "e96a2802",
   "metadata": {},
   "source": [
    "# 2. Quadratic equation"
   ]
  },
  {
   "cell_type": "code",
   "execution_count": 5,
   "id": "ecd23ddb",
   "metadata": {},
   "outputs": [
    {
     "name": "stdout",
     "output_type": "stream",
     "text": [
      "Test 1\n",
      "The coefficients for the quadtratic equation are: a=1, b=-6 and c=9\n",
      "The equation has a single solution (double root): 3.00\n",
      "##################################################\n",
      "Test 2\n",
      "The coefficients for the quadtratic equation are: a=1, b=9 and c=2\n",
      "The equation has two real roots: -0.23 and -8.77\n",
      "##################################################\n",
      "Test 3\n",
      "The coefficients for the quadtratic equation are: a=2, b=3 and c=4\n",
      "The equation has two complex roots: -0.75+i1.20 and -0.75-i1.20\n"
     ]
    }
   ],
   "source": [
    "import math\n",
    "\n",
    "def solve(a, b, c):\n",
    "    print(f'The coefficients for the quadtratic equation are: a={a}, b={b} and c={c}')\n",
    "    determinant = b**2 - 4*a*c\n",
    "\n",
    "    if determinant == 0:\n",
    "        double_root = -b/(2.0*a)\n",
    "        print(f'The equation has a single solution (double root): {double_root:.2f}')\n",
    "    elif determinant > 0:\n",
    "        sqroot = math.sqrt(determinant)\n",
    "        root1 = (-b + sqroot)/(2.0*a)\n",
    "        root2 = (-b - sqroot)/(2.0*a)\n",
    "        print(f'The equation has two real roots: {root1:.2f} and {root2:.2f}')\n",
    "    else:\n",
    "        sqroot = math.sqrt(-determinant)\n",
    "        real_part = -b/(2.0*a)\n",
    "        imaginary_part = sqroot/(2.0*a)\n",
    "        print(f'The equation has two complex roots: {real_part:.2f}+i{imaginary_part:.2f} and {real_part:.2f}-i{imaginary_part:.2f}')\n",
    "\n",
    "# Testing\n",
    "print('Test 1')\n",
    "solve(1,-6,9)\n",
    "print('#'*50)\n",
    "print('Test 2')\n",
    "solve(1, 9, 2)\n",
    "print('#'*50)\n",
    "print('Test 3')\n",
    "solve(2,3,4)\n"
   ]
  },
  {
   "cell_type": "markdown",
   "id": "15731261",
   "metadata": {},
   "source": [
    "## Test manually\n"
   ]
  },
  {
   "cell_type": "code",
   "execution_count": null,
   "id": "5dfc1206",
   "metadata": {},
   "outputs": [],
   "source": [
    "\n",
    "a = float(input('Enter the value of coefficient \"a\": '))\n",
    "b = float(input('Enter the value of coefficient \"b\": '))\n",
    "c = float(input('Enter the value of coefficient \"c\": '))\n",
    "solve(a, b, c)\n"
   ]
  },
  {
   "cell_type": "markdown",
   "id": "b760531b",
   "metadata": {},
   "source": [
    "# 3. Reverse an integer"
   ]
  },
  {
   "cell_type": "code",
   "execution_count": 9,
   "id": "846d8640",
   "metadata": {},
   "outputs": [
    {
     "name": "stdout",
     "output_type": "stream",
     "text": [
      "Test 1\n",
      "Your input is: 123\n",
      "digits=[3, 2, 1]\n",
      "Reversed integer: 321\n",
      "##################################################\n",
      "Test 2\n",
      "Your input is: -123\n",
      "digits=[3, 2, 1]\n",
      "Reversed integer: -321\n",
      "##################################################\n",
      "Test 3\n",
      "Your input is: 0\n",
      "digits=[]\n",
      "Reversed integer: 0\n",
      "##################################################\n",
      "Test 4\n",
      "Your input is: 1000\n",
      "digits=[0, 0, 0, 1]\n",
      "Reversed integer: 1\n"
     ]
    }
   ],
   "source": [
    "def reverse(a):\n",
    "    print(f\"Your input is: {a}\")\n",
    "    rem = a\n",
    "    negative = False\n",
    "    if rem < 0:\n",
    "        rem *= -1\n",
    "        negative = True\n",
    "    digits = []\n",
    "\n",
    "    while rem > 0:\n",
    "        digit = rem % 10\n",
    "        digits.append(digit)\n",
    "        rem = int(rem / 10)\n",
    "    print(f'digits={digits}')\n",
    "\n",
    "    reversed = 0\n",
    "    placevalue = 10**(len(digits)-1)\n",
    "    for digit in digits:\n",
    "        reversed +=  digit * placevalue\n",
    "        placevalue = int(placevalue/10)\n",
    "    if negative:\n",
    "        reversed *= -1\n",
    "    print(f'Reversed integer: {reversed}')\n",
    "\n",
    "# Testing\n",
    "print('Test 1')\n",
    "reverse(123)\n",
    "print('#'*50)\n",
    "print('Test 2')\n",
    "reverse(-123)\n",
    "print('#'*50)\n",
    "print('Test 3')\n",
    "reverse(0)\n",
    "print('#'*50)\n",
    "print('Test 4')\n",
    "reverse(1000)\n"
   ]
  },
  {
   "cell_type": "markdown",
   "id": "04468137",
   "metadata": {},
   "source": [
    "## Test manually\n"
   ]
  },
  {
   "cell_type": "code",
   "execution_count": 11,
   "id": "d890faaf",
   "metadata": {},
   "outputs": [
    {
     "name": "stdout",
     "output_type": "stream",
     "text": [
      "Your input is: 83476\n",
      "digits=[6, 7, 4, 3, 8]\n",
      "Reversed integer: 67438\n"
     ]
    }
   ],
   "source": [
    "\n",
    "a = int(input('Enter an integer to reverse: '))\n",
    "reverse(a)"
   ]
  },
  {
   "cell_type": "markdown",
   "id": "ce00e8e2",
   "metadata": {},
   "source": [
    "# 4. Sort"
   ]
  },
  {
   "cell_type": "code",
   "execution_count": 19,
   "id": "a34ae82d",
   "metadata": {},
   "outputs": [
    {
     "name": "stdout",
     "output_type": "stream",
     "text": [
      "Test 1\n",
      "Input list: [2, 3, -4]\n",
      "Sorted list using code: [-4, 2, 3]\n",
      "##################################################\n",
      "Test 2\n",
      "Input list: [-123]\n",
      "Sorted list using code: [-123]\n",
      "##################################################\n",
      "Test 3\n",
      "Input list: []\n",
      "Sorted list using code: []\n"
     ]
    },
    {
     "data": {
      "text/plain": [
       "[]"
      ]
     },
     "execution_count": 19,
     "metadata": {},
     "output_type": "execute_result"
    }
   ],
   "source": [
    "    import numpy as np\n",
    "    def sort(numbers):\n",
    "        print(f\"Input list: {numbers}\")\n",
    "        sorted = numbers\n",
    "        while True:\n",
    "            swaps = 0\n",
    "            for i in range(len(numbers)-1):\n",
    "                if sorted[i] > sorted[i+1]:\n",
    "                    tmp = sorted[i]\n",
    "                    sorted[i] = sorted[i+1]\n",
    "                    sorted[i+1] = tmp\n",
    "                    swaps += 1\n",
    "            if swaps == 0:\n",
    "                break\n",
    "        print(f\"Sorted list using code: {sorted}\")\n",
    "\n",
    "        return sorted\n",
    "\n",
    "# Testing\n",
    "print('Test 1')\n",
    "sort([2, 3, -4])\n",
    "print('#'*50)\n",
    "print('Test 2')\n",
    "sort([-123])\n",
    "print('#'*50)\n",
    "print('Test 3')\n",
    "sort([])\n"
   ]
  },
  {
   "cell_type": "markdown",
   "id": "33240c40",
   "metadata": {},
   "source": [
    "## Test manually"
   ]
  },
  {
   "cell_type": "code",
   "execution_count": 20,
   "id": "8379b5ff",
   "metadata": {},
   "outputs": [
    {
     "name": "stdout",
     "output_type": "stream",
     "text": [
      "Input list: [3.0, 5.0, 2.0]\n",
      "Sorted list using code: [2.0, 3.0, 5.0]\n",
      "Sorted list using numpy: [2. 3. 5.]\n"
     ]
    }
   ],
   "source": [
    "\n",
    "numbers=[]\n",
    "while True:\n",
    "    num = float(input('Enter a number (-999 to stop): '))\n",
    "    if num == -999:\n",
    "        break\n",
    "    numbers.append(num)\n",
    "\n",
    "sorted_list = sort(numbers)\n",
    "sorted_list_np = np.sort(numbers)\n",
    "print(f\"Sorted list using numpy: {sorted_list_np}\")\n",
    "\n",
    "\n"
   ]
  },
  {
   "cell_type": "markdown",
   "id": "bc113b98",
   "metadata": {},
   "source": [
    "# 5. Matrix multiplication\n"
   ]
  },
  {
   "cell_type": "code",
   "execution_count": 32,
   "id": "8d6c875e",
   "metadata": {},
   "outputs": [
    {
     "name": "stdout",
     "output_type": "stream",
     "text": [
      "Matrix A : [[0. 1.]\n",
      " [1. 2.]]\n",
      "Matrix B : [[ 0. -1.]\n",
      " [ 1.  0.]]\n",
      "Matrix C calculated using equation : [[ 1.  0.]\n",
      " [ 2. -1.]]\n",
      "Matrix C calculated using numpy : [[ 1.  0.]\n",
      " [ 2. -1.]]\n"
     ]
    }
   ],
   "source": [
    "import numpy as np\n",
    "\n",
    "n = int(input('Enter the dimension for an n x n matrices: '))\n",
    "matrixA = np.zeros(shape=(n,n))\n",
    "matrixB = np.zeros(shape=(n,n))\n",
    "for i in range(n):\n",
    "    for j in range(n):\n",
    "        matrixA[i,j] = i+j\n",
    "        matrixB[i,j] = i-j\n",
    "\n",
    "print(f\"Matrix A : {matrixA}\")\n",
    "print(f\"Matrix B : {matrixB}\")\n",
    "matrixC = np.zeros(shape=(n,n))\n",
    "for i in range(n):\n",
    "    for j in range(n):\n",
    "        for k in range(n):\n",
    "            matrixC[i,j] += matrixA[i,k]*matrixB[k,j]\n",
    "print(f\"Matrix C calculated using equation : {matrixC}\")\n",
    "matrixC_np = np.matmul(matrixA, matrixB)\n",
    "print(f\"Matrix C calculated using numpy : {matrixC_np}\")\n"
   ]
  }
 ],
 "metadata": {
  "kernelspec": {
   "display_name": "base",
   "language": "python",
   "name": "python3"
  },
  "language_info": {
   "codemirror_mode": {
    "name": "ipython",
    "version": 3
   },
   "file_extension": ".py",
   "mimetype": "text/x-python",
   "name": "python",
   "nbconvert_exporter": "python",
   "pygments_lexer": "ipython3",
   "version": "3.12.2"
  }
 },
 "nbformat": 4,
 "nbformat_minor": 5
}
