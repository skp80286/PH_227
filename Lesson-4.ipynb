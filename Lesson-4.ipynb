{
 "cells": [
  {
   "cell_type": "code",
   "execution_count": null,
   "id": "85ca829c",
   "metadata": {},
   "outputs": [],
   "source": [
    "#In this notebook we will learn how to read simple input and make decisions using \n",
    "#if-elif-else logic. In Python, the variables are read as strings which need to be \n",
    "#converted to the correct data type\n",
    "x=int(input(\"Give an integer in the range 1-4:\"))\n",
    "if x==1:\n",
    "    print(\"Monkey\")\n",
    "elif x==2:\n",
    "    print(\"Donkey\")\n",
    "elif x==3:\n",
    "    print(\"Lion\")\n",
    "elif x==4:\n",
    "    print(\"Tiger\")\n",
    "else:\n",
    "    print(\"You gave a wrong value of x\")"
   ]
  },
  {
   "cell_type": "code",
   "execution_count": null,
   "id": "76d3d51a",
   "metadata": {},
   "outputs": [],
   "source": [
    "#Now let us learn a bit about looping using the while loop by writing a code\n",
    "#for adding the first n natural numbers\n",
    "import sys\n",
    "print(\"We will add first n natural numbers\")\n",
    "n=int(input(\"Give the value of n: \"))\n",
    "if n<=0:\n",
    "    sys.exit(\"Exiting because you gave a non-positive value of n\")\n",
    "sum=0.0\n",
    "count=1\n",
    "while count <= n:\n",
    "    sum+=count\n",
    "    count+=1\n",
    "print(\"Sum of first \",n,\" natural numbers = \",sum)\n",
    "    \n"
   ]
  },
  {
   "cell_type": "code",
   "execution_count": null,
   "id": "7635cdc4",
   "metadata": {},
   "outputs": [],
   "source": [
    "#Let us do the same problem using a for loop. But, before that let us learn the usage of for loops in Python"
   ]
  },
  {
   "cell_type": "code",
   "execution_count": null,
   "id": "0b91d120",
   "metadata": {},
   "outputs": [],
   "source": [
    "for x in \"monkey\":\n",
    "    print(x)"
   ]
  },
  {
   "cell_type": "code",
   "execution_count": 5,
   "id": "a0a3b55e",
   "metadata": {},
   "outputs": [
    {
     "name": "stdout",
     "output_type": "stream",
     "text": [
      "mango\n",
      "orange\n",
      "apricot\n"
     ]
    }
   ],
   "source": [
    "fruits = [\"mango\", \"orange\", \"apricot\"]\n",
    "for x in fruits:\n",
    "  print(x)"
   ]
  },
  {
   "cell_type": "code",
   "execution_count": 6,
   "id": "420e2426",
   "metadata": {},
   "outputs": [
    {
     "name": "stdout",
     "output_type": "stream",
     "text": [
      "mango\n",
      "orange\n"
     ]
    }
   ],
   "source": [
    "#One can get out of the for loop if a given condition has been satisfied\n",
    "fruits = [\"mango\", \"orange\", \"apricot\"]\n",
    "for x in fruits:\n",
    "  print(x)\n",
    "  if x==\"orange\":\n",
    "    break"
   ]
  },
  {
   "cell_type": "code",
   "execution_count": 7,
   "id": "a188ccec",
   "metadata": {},
   "outputs": [
    {
     "name": "stdout",
     "output_type": "stream",
     "text": [
      "0\n",
      "1\n",
      "2\n",
      "3\n",
      "4\n",
      "5\n",
      "6\n",
      "7\n",
      "8\n",
      "9\n"
     ]
    }
   ],
   "source": [
    "#One can give numerical values to define a range. Note that by default the loop starts\n",
    "#with 0, and is not executed for the terminating value of the range\n",
    "for x in range(10):\n",
    "  print(x)"
   ]
  },
  {
   "cell_type": "code",
   "execution_count": 8,
   "id": "b58f4a84",
   "metadata": {},
   "outputs": [
    {
     "name": "stdout",
     "output_type": "stream",
     "text": [
      "3\n",
      "4\n",
      "5\n",
      "6\n",
      "7\n",
      "8\n",
      "9\n"
     ]
    }
   ],
   "source": [
    "#We can change the starting value of the index\n",
    "for x in range(3, 10):\n",
    "  print(x)"
   ]
  },
  {
   "cell_type": "code",
   "execution_count": 9,
   "id": "b646fe63",
   "metadata": {},
   "outputs": [
    {
     "name": "stdout",
     "output_type": "stream",
     "text": [
      "3\n",
      "5\n",
      "7\n",
      "9\n"
     ]
    }
   ],
   "source": [
    "#The full syntax of a for loop allows us to fix the amount of increment\n",
    "for x in range(3, 10, 2):\n",
    "  print(x)"
   ]
  },
  {
   "cell_type": "code",
   "execution_count": 10,
   "id": "35dd8149",
   "metadata": {},
   "outputs": [
    {
     "name": "stdout",
     "output_type": "stream",
     "text": [
      "We will add first n natural numbers\n",
      "Give the value of n: 40\n",
      "Sum of first  40  natural numbers =  820.0\n"
     ]
    }
   ],
   "source": [
    "#Let us rewrite the program to sum first n natural numbers using a for loop\n",
    "import sys\n",
    "print(\"We will add first n natural numbers\")\n",
    "n=int(input(\"Give the value of n: \"))\n",
    "if n<=0:\n",
    "    sys.exit(\"Exiting because you gave a non-positive value of n\")\n",
    "sum=0.0\n",
    "for count in range(1,n+1):\n",
    "    sum+=count\n",
    "print(\"Sum of first \",n,\" natural numbers = \",sum)\n",
    " \n"
   ]
  },
  {
   "cell_type": "code",
   "execution_count": null,
   "id": "256c0149",
   "metadata": {},
   "outputs": [],
   "source": []
  }
 ],
 "metadata": {
  "kernelspec": {
   "display_name": "Python 3 (ipykernel)",
   "language": "python",
   "name": "python3"
  },
  "language_info": {
   "codemirror_mode": {
    "name": "ipython",
    "version": 3
   },
   "file_extension": ".py",
   "mimetype": "text/x-python",
   "name": "python",
   "nbconvert_exporter": "python",
   "pygments_lexer": "ipython3",
   "version": "3.12.3"
  }
 },
 "nbformat": 4,
 "nbformat_minor": 5
}
