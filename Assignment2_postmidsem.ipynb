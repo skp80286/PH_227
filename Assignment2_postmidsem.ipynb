{
  "cells": [
    {
      "cell_type": "markdown",
      "metadata": {
        "id": "7b6822d3"
      },
      "source": [
        "# Problem-1: House Price Prediction in California\n",
        "## **Note: First create the copy of this colab notebook in your drive and then proceed with completing the code blocks of this assignment in copy of this colab notebook**"
      ]
    },
    {
      "cell_type": "markdown",
      "metadata": {
        "id": "5bacea17"
      },
      "source": [
        "# Tasks to Do:\n",
        "Solve the following coding problem: House Price Prediction (Multiple Feature Regression). Implement a multiple feature regression model to predict house prices based on various features. This problem will guide you through data loading, preprocessing, model training, and evaluation for a real-world regression task.\n",
        "\n",
        "**1. Data Loading and Initial Exploration:**\n",
        "Load a house price dataset (e.g., California Housing dataset from sklearn.datasets.fetch_california_housing or a similar publicly available dataset like Boston Housing).\n",
        "Display the first 5 rows of the dataset, its shape, and a summary of its statistical properties using Pandas.\n",
        "Identify the target variable (house price) and the feature variables.\n",
        "\n",
        "**2. Data Preprocessing:**\n",
        "Check for any missing values in the dataset and decide on an appropriate strategy to handle them (e.g., imputation or removal). Justify your choice.\n",
        "Perform feature scaling on the numerical features using StandardScaler or MinMaxScaler from sklearn.preprocessing. Explain why feature scaling is important for some regression algorithms.\n",
        "If applicable, handle categorical features using one-hot encoding or other appropriate techniques.\n",
        "\n",
        "**3. Model Implementation - Multiple Linear Regression:**\n",
        "Split the preprocessed dataset into training and testing sets (e.g., 80% training, 20% testing).\n",
        "Implement Multiple Linear Regression from scratch using NumPy (i.e., using the normal equation or gradient descent).\n",
        "Alternatively, use sklearn.linear_model.LinearRegression to train a model on the training data.\n",
        "Make predictions on the test set.\n",
        "\n",
        "**4. Model Evaluation:**\n",
        "Calculate and report the Mean Squared Error (MSE), Root Mean Squared Error (RMSE), and R-squared score on the test set.\n",
        "Discuss what these metrics indicate about the model's performance.\n",
        "\n",
        "**5. Feature Importance and Visualization (Optional/Bonus):**\n",
        "If using sklearn.linear_model.LinearRegression, extract the coefficients of the model.\n",
        "Visualize the relationship between the predicted prices and actual prices using a scatter plot.\n",
        "(Bonus) Create a bar chart showing the importance of each feature (based on absolute coefficient values) in predicting house prices.\n",
        "\n",
        "This problem aims to solidify your understanding of the end-to-end process of building and evaluating a regression model for a practical machine learning task."
      ]
    },
    {
      "cell_type": "markdown",
      "metadata": {
        "id": "d9cc13b1"
      },
      "source": [
        "## Data loading and initial exploration\n",
        "\n",
        "### Subtask:\n",
        "Load the dataset, display initial information, and identify target and feature variables.\n"
      ]
    },
    {
      "cell_type": "markdown",
      "metadata": {
        "id": "b2eb6f50"
      },
      "source": [
        "**Reasoning**:\n",
        "Load the California Housing dataset, convert it to a pandas DataFrame, display its head, shape, and descriptive statistics, and then identify and store the features and target variables as instructed.\n",
        "\n"
      ]
    },
    {
      "cell_type": "code",
      "execution_count": 73,
      "metadata": {
        "colab": {
          "base_uri": "https://localhost:8080/",
          "height": 645
        },
        "id": "3ed5a97f",
        "outputId": "0d0a40e9-c01e-472b-f8e0-18bc97e6ca98"
      },
      "outputs": [
        {
          "name": "stdout",
          "output_type": "stream",
          "text": [
            "                  0             1             2             3             4  \\\n",
            "count  20640.000000  20640.000000  20640.000000  20640.000000  20640.000000   \n",
            "mean       3.870671     28.639486      5.429000      1.096675   1425.476744   \n",
            "std        1.899822     12.585558      2.474173      0.473911   1132.462122   \n",
            "min        0.499900      1.000000      0.846154      0.333333      3.000000   \n",
            "25%        2.563400     18.000000      4.440716      1.006079    787.000000   \n",
            "50%        3.534800     29.000000      5.229129      1.048780   1166.000000   \n",
            "75%        4.743250     37.000000      6.052381      1.099526   1725.000000   \n",
            "max       15.000100     52.000000    141.909091     34.066667  35682.000000   \n",
            "\n",
            "                  5             6             7  \n",
            "count  20640.000000  20640.000000  20640.000000  \n",
            "mean       3.070655     35.631861   -119.569704  \n",
            "std       10.386050      2.135952      2.003532  \n",
            "min        0.692308     32.540000   -124.350000  \n",
            "25%        2.429741     33.930000   -121.800000  \n",
            "50%        2.818116     34.260000   -118.490000  \n",
            "75%        3.282261     37.710000   -118.010000  \n",
            "max     1243.333333     41.950000   -114.310000  \n",
            "First 5 rows of the dataset:\n"
          ]
        },
        {
          "data": {
            "text/html": [
              "<div>\n",
              "<style scoped>\n",
              "    .dataframe tbody tr th:only-of-type {\n",
              "        vertical-align: middle;\n",
              "    }\n",
              "\n",
              "    .dataframe tbody tr th {\n",
              "        vertical-align: top;\n",
              "    }\n",
              "\n",
              "    .dataframe thead th {\n",
              "        text-align: right;\n",
              "    }\n",
              "</style>\n",
              "<table border=\"1\" class=\"dataframe\">\n",
              "  <thead>\n",
              "    <tr style=\"text-align: right;\">\n",
              "      <th></th>\n",
              "      <th>0</th>\n",
              "      <th>1</th>\n",
              "      <th>2</th>\n",
              "      <th>3</th>\n",
              "      <th>4</th>\n",
              "      <th>5</th>\n",
              "      <th>6</th>\n",
              "      <th>7</th>\n",
              "      <th>target</th>\n",
              "    </tr>\n",
              "  </thead>\n",
              "  <tbody>\n",
              "    <tr>\n",
              "      <th>0</th>\n",
              "      <td>8.3252</td>\n",
              "      <td>41.0</td>\n",
              "      <td>6.984127</td>\n",
              "      <td>1.023810</td>\n",
              "      <td>322.0</td>\n",
              "      <td>2.555556</td>\n",
              "      <td>37.88</td>\n",
              "      <td>-122.23</td>\n",
              "      <td>4.526</td>\n",
              "    </tr>\n",
              "    <tr>\n",
              "      <th>1</th>\n",
              "      <td>8.3014</td>\n",
              "      <td>21.0</td>\n",
              "      <td>6.238137</td>\n",
              "      <td>0.971880</td>\n",
              "      <td>2401.0</td>\n",
              "      <td>2.109842</td>\n",
              "      <td>37.86</td>\n",
              "      <td>-122.22</td>\n",
              "      <td>3.585</td>\n",
              "    </tr>\n",
              "    <tr>\n",
              "      <th>2</th>\n",
              "      <td>7.2574</td>\n",
              "      <td>52.0</td>\n",
              "      <td>8.288136</td>\n",
              "      <td>1.073446</td>\n",
              "      <td>496.0</td>\n",
              "      <td>2.802260</td>\n",
              "      <td>37.85</td>\n",
              "      <td>-122.24</td>\n",
              "      <td>3.521</td>\n",
              "    </tr>\n",
              "    <tr>\n",
              "      <th>3</th>\n",
              "      <td>5.6431</td>\n",
              "      <td>52.0</td>\n",
              "      <td>5.817352</td>\n",
              "      <td>1.073059</td>\n",
              "      <td>558.0</td>\n",
              "      <td>2.547945</td>\n",
              "      <td>37.85</td>\n",
              "      <td>-122.25</td>\n",
              "      <td>3.413</td>\n",
              "    </tr>\n",
              "    <tr>\n",
              "      <th>4</th>\n",
              "      <td>3.8462</td>\n",
              "      <td>52.0</td>\n",
              "      <td>6.281853</td>\n",
              "      <td>1.081081</td>\n",
              "      <td>565.0</td>\n",
              "      <td>2.181467</td>\n",
              "      <td>37.85</td>\n",
              "      <td>-122.25</td>\n",
              "      <td>3.422</td>\n",
              "    </tr>\n",
              "  </tbody>\n",
              "</table>\n",
              "</div>"
            ],
            "text/plain": [
              "        0     1         2         3       4         5      6       7  target\n",
              "0  8.3252  41.0  6.984127  1.023810   322.0  2.555556  37.88 -122.23   4.526\n",
              "1  8.3014  21.0  6.238137  0.971880  2401.0  2.109842  37.86 -122.22   3.585\n",
              "2  7.2574  52.0  8.288136  1.073446   496.0  2.802260  37.85 -122.24   3.521\n",
              "3  5.6431  52.0  5.817352  1.073059   558.0  2.547945  37.85 -122.25   3.413\n",
              "4  3.8462  52.0  6.281853  1.081081   565.0  2.181467  37.85 -122.25   3.422"
            ]
          },
          "metadata": {},
          "output_type": "display_data"
        },
        {
          "name": "stdout",
          "output_type": "stream",
          "text": [
            "\n",
            "Shape of the dataset: (20640, 9)\n",
            "\n",
            "Statistical summary of the dataset:\n"
          ]
        },
        {
          "data": {
            "text/html": [
              "<div>\n",
              "<style scoped>\n",
              "    .dataframe tbody tr th:only-of-type {\n",
              "        vertical-align: middle;\n",
              "    }\n",
              "\n",
              "    .dataframe tbody tr th {\n",
              "        vertical-align: top;\n",
              "    }\n",
              "\n",
              "    .dataframe thead th {\n",
              "        text-align: right;\n",
              "    }\n",
              "</style>\n",
              "<table border=\"1\" class=\"dataframe\">\n",
              "  <thead>\n",
              "    <tr style=\"text-align: right;\">\n",
              "      <th></th>\n",
              "      <th>0</th>\n",
              "      <th>1</th>\n",
              "      <th>2</th>\n",
              "      <th>3</th>\n",
              "      <th>4</th>\n",
              "      <th>5</th>\n",
              "      <th>6</th>\n",
              "      <th>7</th>\n",
              "      <th>target</th>\n",
              "    </tr>\n",
              "  </thead>\n",
              "  <tbody>\n",
              "    <tr>\n",
              "      <th>count</th>\n",
              "      <td>20640.000000</td>\n",
              "      <td>20640.000000</td>\n",
              "      <td>20640.000000</td>\n",
              "      <td>20640.000000</td>\n",
              "      <td>20640.000000</td>\n",
              "      <td>20640.000000</td>\n",
              "      <td>20640.000000</td>\n",
              "      <td>20640.000000</td>\n",
              "      <td>20640.000000</td>\n",
              "    </tr>\n",
              "    <tr>\n",
              "      <th>mean</th>\n",
              "      <td>3.870671</td>\n",
              "      <td>28.639486</td>\n",
              "      <td>5.429000</td>\n",
              "      <td>1.096675</td>\n",
              "      <td>1425.476744</td>\n",
              "      <td>3.070655</td>\n",
              "      <td>35.631861</td>\n",
              "      <td>-119.569704</td>\n",
              "      <td>2.068558</td>\n",
              "    </tr>\n",
              "    <tr>\n",
              "      <th>std</th>\n",
              "      <td>1.899822</td>\n",
              "      <td>12.585558</td>\n",
              "      <td>2.474173</td>\n",
              "      <td>0.473911</td>\n",
              "      <td>1132.462122</td>\n",
              "      <td>10.386050</td>\n",
              "      <td>2.135952</td>\n",
              "      <td>2.003532</td>\n",
              "      <td>1.153956</td>\n",
              "    </tr>\n",
              "    <tr>\n",
              "      <th>min</th>\n",
              "      <td>0.499900</td>\n",
              "      <td>1.000000</td>\n",
              "      <td>0.846154</td>\n",
              "      <td>0.333333</td>\n",
              "      <td>3.000000</td>\n",
              "      <td>0.692308</td>\n",
              "      <td>32.540000</td>\n",
              "      <td>-124.350000</td>\n",
              "      <td>0.149990</td>\n",
              "    </tr>\n",
              "    <tr>\n",
              "      <th>25%</th>\n",
              "      <td>2.563400</td>\n",
              "      <td>18.000000</td>\n",
              "      <td>4.440716</td>\n",
              "      <td>1.006079</td>\n",
              "      <td>787.000000</td>\n",
              "      <td>2.429741</td>\n",
              "      <td>33.930000</td>\n",
              "      <td>-121.800000</td>\n",
              "      <td>1.196000</td>\n",
              "    </tr>\n",
              "    <tr>\n",
              "      <th>50%</th>\n",
              "      <td>3.534800</td>\n",
              "      <td>29.000000</td>\n",
              "      <td>5.229129</td>\n",
              "      <td>1.048780</td>\n",
              "      <td>1166.000000</td>\n",
              "      <td>2.818116</td>\n",
              "      <td>34.260000</td>\n",
              "      <td>-118.490000</td>\n",
              "      <td>1.797000</td>\n",
              "    </tr>\n",
              "    <tr>\n",
              "      <th>75%</th>\n",
              "      <td>4.743250</td>\n",
              "      <td>37.000000</td>\n",
              "      <td>6.052381</td>\n",
              "      <td>1.099526</td>\n",
              "      <td>1725.000000</td>\n",
              "      <td>3.282261</td>\n",
              "      <td>37.710000</td>\n",
              "      <td>-118.010000</td>\n",
              "      <td>2.647250</td>\n",
              "    </tr>\n",
              "    <tr>\n",
              "      <th>max</th>\n",
              "      <td>15.000100</td>\n",
              "      <td>52.000000</td>\n",
              "      <td>141.909091</td>\n",
              "      <td>34.066667</td>\n",
              "      <td>35682.000000</td>\n",
              "      <td>1243.333333</td>\n",
              "      <td>41.950000</td>\n",
              "      <td>-114.310000</td>\n",
              "      <td>5.000010</td>\n",
              "    </tr>\n",
              "  </tbody>\n",
              "</table>\n",
              "</div>"
            ],
            "text/plain": [
              "                  0             1             2             3             4  \\\n",
              "count  20640.000000  20640.000000  20640.000000  20640.000000  20640.000000   \n",
              "mean       3.870671     28.639486      5.429000      1.096675   1425.476744   \n",
              "std        1.899822     12.585558      2.474173      0.473911   1132.462122   \n",
              "min        0.499900      1.000000      0.846154      0.333333      3.000000   \n",
              "25%        2.563400     18.000000      4.440716      1.006079    787.000000   \n",
              "50%        3.534800     29.000000      5.229129      1.048780   1166.000000   \n",
              "75%        4.743250     37.000000      6.052381      1.099526   1725.000000   \n",
              "max       15.000100     52.000000    141.909091     34.066667  35682.000000   \n",
              "\n",
              "                  5             6             7        target  \n",
              "count  20640.000000  20640.000000  20640.000000  20640.000000  \n",
              "mean       3.070655     35.631861   -119.569704      2.068558  \n",
              "std       10.386050      2.135952      2.003532      1.153956  \n",
              "min        0.692308     32.540000   -124.350000      0.149990  \n",
              "25%        2.429741     33.930000   -121.800000      1.196000  \n",
              "50%        2.818116     34.260000   -118.490000      1.797000  \n",
              "75%        3.282261     37.710000   -118.010000      2.647250  \n",
              "max     1243.333333     41.950000   -114.310000      5.000010  "
            ]
          },
          "metadata": {},
          "output_type": "display_data"
        },
        {
          "name": "stdout",
          "output_type": "stream",
          "text": [
            "\n",
            "Identified features (X) and target (y).\n",
            "Shape of features (X): (20640, 8)\n",
            "Shape of target (y): (20640,)\n",
            "        0     1         2         3       4         5      6       7\n",
            "0  8.3252  41.0  6.984127  1.023810   322.0  2.555556  37.88 -122.23\n",
            "1  8.3014  21.0  6.238137  0.971880  2401.0  2.109842  37.86 -122.22\n",
            "2  7.2574  52.0  8.288136  1.073446   496.0  2.802260  37.85 -122.24\n",
            "3  5.6431  52.0  5.817352  1.073059   558.0  2.547945  37.85 -122.25\n",
            "4  3.8462  52.0  6.281853  1.081081   565.0  2.181467  37.85 -122.25\n",
            "0    4.526\n",
            "1    3.585\n",
            "2    3.521\n",
            "3    3.413\n",
            "4    3.422\n",
            "Name: target, dtype: float64\n"
          ]
        }
      ],
      "source": [
        "from sklearn.datasets import fetch_california_housing\n",
        "import pandas as pd\n",
        "\n",
        "# Load the dataset\n",
        "housing = fetch_california_housing()\n",
        "#print(housing)\n",
        "\n",
        "# Convert to DataFrame: explore 'housing' variable\n",
        "housing_df = pd.DataFrame(housing.data) # create data frame containing features of housing data\n",
        "print(housing_df.describe())\n",
        "\n",
        "housing_df['target'] = housing.target # target varialble of housing data\n",
        "\n",
        "# Display initial information\n",
        "print(\"First 5 rows of the dataset:\")\n",
        "display(housing_df.head())\n",
        "\n",
        "print(\"\\nShape of the dataset:\", housing_df.shape)\n",
        "\n",
        "print(\"\\nStatistical summary of the dataset:\")\n",
        "display(housing_df.describe())\n",
        "\n",
        "# Identify target and feature variables\n",
        "X = housing_df.loc[:,0:7] # features from housing dataframe\n",
        "y = housing_df.loc[:,'target'] # target values from housing_df\n",
        "\n",
        "print(\"\\nIdentified features (X) and target (y).\")\n",
        "print(\"Shape of features (X):\", X.shape)\n",
        "print(\"Shape of target (y):\", y.shape)\n",
        "print(X.head())\n",
        "print(y.head())\n"
      ]
    },
    {
      "cell_type": "markdown",
      "metadata": {
        "id": "577a7f6c"
      },
      "source": [
        "## Data preprocessing - handle missing values\n",
        "\n",
        "### Subtask:\n",
        "Check for and handle any missing values in the dataset.\n"
      ]
    },
    {
      "cell_type": "markdown",
      "metadata": {
        "id": "21950984"
      },
      "source": [
        "**Reasoning**:\n",
        "Check the features and target for missing values as per the instructions.\n",
        "\n"
      ]
    },
    {
      "cell_type": "code",
      "execution_count": 74,
      "metadata": {
        "colab": {
          "base_uri": "https://localhost:8080/"
        },
        "id": "b64edba6",
        "outputId": "f85f73c2-964e-4078-f7f6-8959997a2bdd"
      },
      "outputs": [
        {
          "name": "stdout",
          "output_type": "stream",
          "text": [
            "Missing values in features (X):\n",
            "Empty DataFrame\n",
            "Columns: []\n",
            "Index: [0, 1, 2, 3, 4, 5, 6, 7, 8, 9, 10, 11, 12, 13, 14, 15, 16, 17, 18, 19, 20, 21, 22, 23, 24, 25, 26, 27, 28, 29, 30, 31, 32, 33, 34, 35, 36, 37, 38, 39, 40, 41, 42, 43, 44, 45, 46, 47, 48, 49, 50, 51, 52, 53, 54, 55, 56, 57, 58, 59, 60, 61, 62, 63, 64, 65, 66, 67, 68, 69, 70, 71, 72, 73, 74, 75, 76, 77, 78, 79, 80, 81, 82, 83, 84, 85, 86, 87, 88, 89, 90, 91, 92, 93, 94, 95, 96, 97, 98, 99, ...]\n",
            "\n",
            "[20640 rows x 0 columns]\n"
          ]
        },
        {
          "ename": "IndexingError",
          "evalue": "Too many indexers",
          "output_type": "error",
          "traceback": [
            "\u001b[0;31m---------------------------------------------------------------------------\u001b[0m",
            "\u001b[0;31mIndexingError\u001b[0m                             Traceback (most recent call last)",
            "Cell \u001b[0;32mIn[74], line 7\u001b[0m\n\u001b[1;32m      4\u001b[0m \u001b[38;5;28mprint\u001b[39m(missing_in_X)\n\u001b[1;32m      6\u001b[0m \u001b[38;5;66;03m# Check for any missing values in the target (y)\u001b[39;00m\n\u001b[0;32m----> 7\u001b[0m missing_in_y \u001b[38;5;241m=\u001b[39m y\u001b[38;5;241m.\u001b[39mloc[:, y\u001b[38;5;241m.\u001b[39misna()] \u001b[38;5;66;03m# find total NaN values in targets\u001b[39;00m\n\u001b[1;32m      8\u001b[0m \u001b[38;5;28mprint\u001b[39m(\u001b[38;5;124mf\u001b[39m\u001b[38;5;124m\"\u001b[39m\u001b[38;5;130;01m\\n\u001b[39;00m\u001b[38;5;124mMissing values in target (y): \u001b[39m\u001b[38;5;132;01m{\u001b[39;00mmissing_in_y\u001b[38;5;132;01m}\u001b[39;00m\u001b[38;5;124m\"\u001b[39m)\n\u001b[1;32m     10\u001b[0m \u001b[38;5;66;03m# Based on the output and the dataset description, determine if any handling is required.\u001b[39;00m\n\u001b[1;32m     11\u001b[0m \u001b[38;5;66;03m# The previous output from loading the dataset indicated no missing values in the DESCR.\u001b[39;00m\n\u001b[1;32m     12\u001b[0m \u001b[38;5;66;03m# The checks above confirm this.\u001b[39;00m\n",
            "File \u001b[0;32m/opt/anaconda3/lib/python3.12/site-packages/pandas/core/indexing.py:1184\u001b[0m, in \u001b[0;36m_LocationIndexer.__getitem__\u001b[0;34m(self, key)\u001b[0m\n\u001b[1;32m   1182\u001b[0m     \u001b[38;5;28;01mif\u001b[39;00m \u001b[38;5;28mself\u001b[39m\u001b[38;5;241m.\u001b[39m_is_scalar_access(key):\n\u001b[1;32m   1183\u001b[0m         \u001b[38;5;28;01mreturn\u001b[39;00m \u001b[38;5;28mself\u001b[39m\u001b[38;5;241m.\u001b[39mobj\u001b[38;5;241m.\u001b[39m_get_value(\u001b[38;5;241m*\u001b[39mkey, takeable\u001b[38;5;241m=\u001b[39m\u001b[38;5;28mself\u001b[39m\u001b[38;5;241m.\u001b[39m_takeable)\n\u001b[0;32m-> 1184\u001b[0m     \u001b[38;5;28;01mreturn\u001b[39;00m \u001b[38;5;28mself\u001b[39m\u001b[38;5;241m.\u001b[39m_getitem_tuple(key)\n\u001b[1;32m   1185\u001b[0m \u001b[38;5;28;01melse\u001b[39;00m:\n\u001b[1;32m   1186\u001b[0m     \u001b[38;5;66;03m# we by definition only have the 0th axis\u001b[39;00m\n\u001b[1;32m   1187\u001b[0m     axis \u001b[38;5;241m=\u001b[39m \u001b[38;5;28mself\u001b[39m\u001b[38;5;241m.\u001b[39maxis \u001b[38;5;129;01mor\u001b[39;00m \u001b[38;5;241m0\u001b[39m\n",
            "File \u001b[0;32m/opt/anaconda3/lib/python3.12/site-packages/pandas/core/indexing.py:1371\u001b[0m, in \u001b[0;36m_LocIndexer._getitem_tuple\u001b[0;34m(self, tup)\u001b[0m\n\u001b[1;32m   1368\u001b[0m     \u001b[38;5;28;01mreturn\u001b[39;00m \u001b[38;5;28mself\u001b[39m\u001b[38;5;241m.\u001b[39m_getitem_lowerdim(tup)\n\u001b[1;32m   1370\u001b[0m \u001b[38;5;66;03m# no multi-index, so validate all of the indexers\u001b[39;00m\n\u001b[0;32m-> 1371\u001b[0m tup \u001b[38;5;241m=\u001b[39m \u001b[38;5;28mself\u001b[39m\u001b[38;5;241m.\u001b[39m_validate_tuple_indexer(tup)\n\u001b[1;32m   1373\u001b[0m \u001b[38;5;66;03m# ugly hack for GH #836\u001b[39;00m\n\u001b[1;32m   1374\u001b[0m \u001b[38;5;28;01mif\u001b[39;00m \u001b[38;5;28mself\u001b[39m\u001b[38;5;241m.\u001b[39m_multi_take_opportunity(tup):\n",
            "File \u001b[0;32m/opt/anaconda3/lib/python3.12/site-packages/pandas/core/indexing.py:962\u001b[0m, in \u001b[0;36m_LocationIndexer._validate_tuple_indexer\u001b[0;34m(self, key)\u001b[0m\n\u001b[1;32m    957\u001b[0m \u001b[38;5;129m@final\u001b[39m\n\u001b[1;32m    958\u001b[0m \u001b[38;5;28;01mdef\u001b[39;00m \u001b[38;5;21m_validate_tuple_indexer\u001b[39m(\u001b[38;5;28mself\u001b[39m, key: \u001b[38;5;28mtuple\u001b[39m) \u001b[38;5;241m-\u001b[39m\u001b[38;5;241m>\u001b[39m \u001b[38;5;28mtuple\u001b[39m:\n\u001b[1;32m    959\u001b[0m \u001b[38;5;250m    \u001b[39m\u001b[38;5;124;03m\"\"\"\u001b[39;00m\n\u001b[1;32m    960\u001b[0m \u001b[38;5;124;03m    Check the key for valid keys across my indexer.\u001b[39;00m\n\u001b[1;32m    961\u001b[0m \u001b[38;5;124;03m    \"\"\"\u001b[39;00m\n\u001b[0;32m--> 962\u001b[0m     key \u001b[38;5;241m=\u001b[39m \u001b[38;5;28mself\u001b[39m\u001b[38;5;241m.\u001b[39m_validate_key_length(key)\n\u001b[1;32m    963\u001b[0m     key \u001b[38;5;241m=\u001b[39m \u001b[38;5;28mself\u001b[39m\u001b[38;5;241m.\u001b[39m_expand_ellipsis(key)\n\u001b[1;32m    964\u001b[0m     \u001b[38;5;28;01mfor\u001b[39;00m i, k \u001b[38;5;129;01min\u001b[39;00m \u001b[38;5;28menumerate\u001b[39m(key):\n",
            "File \u001b[0;32m/opt/anaconda3/lib/python3.12/site-packages/pandas/core/indexing.py:1001\u001b[0m, in \u001b[0;36m_LocationIndexer._validate_key_length\u001b[0;34m(self, key)\u001b[0m\n\u001b[1;32m    999\u001b[0m             \u001b[38;5;28;01mraise\u001b[39;00m IndexingError(_one_ellipsis_message)\n\u001b[1;32m   1000\u001b[0m         \u001b[38;5;28;01mreturn\u001b[39;00m \u001b[38;5;28mself\u001b[39m\u001b[38;5;241m.\u001b[39m_validate_key_length(key)\n\u001b[0;32m-> 1001\u001b[0m     \u001b[38;5;28;01mraise\u001b[39;00m IndexingError(\u001b[38;5;124m\"\u001b[39m\u001b[38;5;124mToo many indexers\u001b[39m\u001b[38;5;124m\"\u001b[39m)\n\u001b[1;32m   1002\u001b[0m \u001b[38;5;28;01mreturn\u001b[39;00m key\n",
            "\u001b[0;31mIndexingError\u001b[0m: Too many indexers"
          ]
        }
      ],
      "source": [
        "# Check for any missing values in the features (X)\n",
        "missing_in_X = X.loc[:, X.isnull().any(axis=1)] # find total NaN values in features\n",
        "print(\"Missing values in features (X):\")\n",
        "print(missing_in_X)\n",
        "\n",
        "# Check for any missing values in the target (y)\n",
        "missing_in_y = y.loc[:, y.isna()] # find total NaN values in targets\n",
        "print(f\"\\nMissing values in target (y): {missing_in_y}\")\n",
        "\n",
        "# Based on the output and the dataset description, determine if any handling is required.\n",
        "# The previous output from loading the dataset indicated no missing values in the DESCR.\n",
        "# The checks above confirm this.\n",
        "if missing_in_X.empty and missing_in_y.empty:\n",
        "    print(\"\\nThere are no missing values in the dataset. No handling is required.\")\n",
        "else:\n",
        "    print(\"\\nMissing values found. Further handling may be required.\")"
      ]
    },
    {
      "cell_type": "markdown",
      "metadata": {
        "id": "df7d9b06"
      },
      "source": [
        "## Data preprocessing - feature scaling\n",
        "\n",
        "### Subtask:\n",
        "Perform feature scaling on the numerical features.\n"
      ]
    },
    {
      "cell_type": "markdown",
      "metadata": {
        "id": "b934205f"
      },
      "source": [
        "**Reasoning**:\n",
        "Perform feature scaling on the numerical features using StandardScaler as per the instructions.\n",
        "\n"
      ]
    },
    {
      "cell_type": "code",
      "execution_count": null,
      "metadata": {
        "colab": {
          "base_uri": "https://localhost:8080/"
        },
        "id": "40e14aec",
        "outputId": "16c8600a-ac89-43b6-86ad-de59bdec1a9a"
      },
      "outputs": [
        {
          "name": "stdout",
          "output_type": "stream",
          "text": [
            "Feature scaling completed.\n",
            "Shape of scaled features (X_scaled): (20640, 8)\n"
          ]
        }
      ],
      "source": [
        "from sklearn.preprocessing import StandardScaler\n",
        "\n",
        "# Instantiate StandardScaler\n",
        "scaler = StandardScaler()\n",
        "\n",
        "# Fit and transform the feature data\n",
        "X_scaled = scaler.fit_transform(X)\n",
        "\n",
        "print(\"Feature scaling completed.\")\n",
        "print(f\"Shape of scaled features (X_scaled): {X_scaled.shape}\")"
      ]
    },
    {
      "cell_type": "markdown",
      "metadata": {
        "id": "742e0e2c"
      },
      "source": [
        "**Reasoning**:\n",
        "Examine the feature names to identify if there are any categorical features and apply appropriate encoding techniques if necessary.\n",
        "\n"
      ]
    },
    {
      "cell_type": "code",
      "execution_count": null,
      "metadata": {
        "colab": {
          "base_uri": "https://localhost:8080/"
        },
        "id": "d16e6140",
        "outputId": "36556533-8ed4-4caa-f256-34064820b53d"
      },
      "outputs": [
        {
          "name": "stdout",
          "output_type": "stream",
          "text": [
            "Feature names: ['MedInc', 'HouseAge', 'AveRooms', 'AveBedrms', 'Population', 'AveOccup', 'Latitude', 'Longitude']\n",
            "\n",
            "All features are numerical. No categorical encoding is needed for this dataset.\n"
          ]
        }
      ],
      "source": [
        "# Examine feature names to identify categorical features\n",
        "print(\"Feature names:\", housing.feature_names)\n",
        "\n",
        "# The California Housing dataset documentation and the printed feature names confirm\n",
        "# that all features are numerical. Therefore, no categorical encoding is required.\n",
        "print(\"\\nAll features are numerical. No categorical encoding is needed for this dataset.\")"
      ]
    },
    {
      "cell_type": "markdown",
      "metadata": {
        "id": "944def5a"
      },
      "source": [
        "**Reasoning**:\n",
        "Split the scaled feature data and the target variable into training and testing sets using train_test_split, and print the shapes to verify the split.\n",
        "\n"
      ]
    },
    {
      "cell_type": "code",
      "execution_count": null,
      "metadata": {
        "colab": {
          "base_uri": "https://localhost:8080/"
        },
        "id": "794544a8",
        "outputId": "44686691-dd1e-47d3-96d8-87cf38686e56"
      },
      "outputs": [
        {
          "name": "stdout",
          "output_type": "stream",
          "text": [
            "Shape of X_train: (16512, 8)\n",
            "Shape of X_test: (4128, 8)\n",
            "Shape of y_train: (16512,)\n",
            "Shape of y_test: (4128,)\n"
          ]
        }
      ],
      "source": [
        "from sklearn.model_selection import train_test_split\n",
        "\n",
        "X_train, X_test, y_train, y_test = train_test_split(X, y, test_size=0.2, random_state=21) # split scaled date in train and test split\n",
        "\n",
        "print(f\"Shape of X_train: {X_train.shape}\")\n",
        "print(f\"Shape of X_test: {X_test.shape}\")\n",
        "print(f\"Shape of y_train: {y_train.shape}\")\n",
        "print(f\"Shape of y_test: {y_test.shape}\")"
      ]
    },
    {
      "cell_type": "markdown",
      "metadata": {
        "id": "131c6dea"
      },
      "source": [
        "## Model implementation - train model\n",
        "\n",
        "### Subtask:\n",
        "Implement and train a Multiple Linear Regression model.\n"
      ]
    },
    {
      "cell_type": "markdown",
      "metadata": {
        "id": "1b847429"
      },
      "source": [
        "**Reasoning**:\n",
        "Import the necessary class, instantiate the model, fit it to the training data, and print the intercept and coefficients.\n",
        "\n"
      ]
    },
    {
      "cell_type": "code",
      "execution_count": null,
      "metadata": {
        "colab": {
          "base_uri": "https://localhost:8080/"
        },
        "id": "c48e569c",
        "outputId": "77c3eac5-bc10-4e9e-8f93-22d8d2a30572"
      },
      "outputs": [
        {
          "name": "stdout",
          "output_type": "stream",
          "text": [
            "Intercept: -36.9419\n",
            "Coefficients:\n",
            "  MedInc: 0.4367\n",
            "  HouseAge: 0.0094\n",
            "  AveRooms: -0.1073\n",
            "  AveBedrms: 0.6451\n",
            "  Population: -0.0000\n",
            "  AveOccup: -0.0038\n",
            "  Latitude: -0.4213\n",
            "  Longitude: -0.4345\n"
          ]
        }
      ],
      "source": [
        "from sklearn.linear_model import LinearRegression\n",
        "\n",
        "# Instantiate a LinearRegression model\n",
        "model = LinearRegression()\n",
        "\n",
        "# Fit the model to the training data\n",
        "model.fit(X, y) # fit model on training data\n",
        "\n",
        "# Print the intercept and coefficients\n",
        "print(f\"Intercept: {model.intercept_:.4f}\")\n",
        "print(\"Coefficients:\")\n",
        "for feature, coef in zip(housing.feature_names, model.coef_):\n",
        "    print(f\"  {feature}: {coef:.4f}\")"
      ]
    },
    {
      "cell_type": "markdown",
      "metadata": {
        "id": "92c6568f"
      },
      "source": [
        "## Model evaluation\n",
        "\n",
        "### Subtask:\n",
        "Calculate and report evaluation metrics (MSE, RMSE, R-squared) on the test set.\n"
      ]
    },
    {
      "cell_type": "markdown",
      "metadata": {
        "id": "1aa471df"
      },
      "source": [
        "**Reasoning**:\n",
        "Calculate and print the evaluation metrics (MSE, RMSE, R-squared) on the test set as per the instructions.\n",
        "\n"
      ]
    },
    {
      "cell_type": "code",
      "execution_count": null,
      "metadata": {
        "colab": {
          "base_uri": "https://localhost:8080/"
        },
        "id": "bc7cf9c0",
        "outputId": "40d78018-7020-4631-e2bf-f4972449787b"
      },
      "outputs": [
        {
          "name": "stdout",
          "output_type": "stream",
          "text": [
            "Mean Squared Error (MSE) on the test set: 0.5414\n",
            "Root Mean Squared Error (RMSE) on the test set: 0.7358\n",
            "R-squared (R2) score on the test set: 0.5973\n"
          ]
        }
      ],
      "source": [
        "from sklearn.metrics import mean_squared_error, r2_score\n",
        "import numpy as np\n",
        "\n",
        "# Make predictions on the test data\n",
        "y_pred = model.predict(X_test)\n",
        "\n",
        "# Calculate evaluation metrics\n",
        "mse = mean_squared_error(y_test, y_pred)\n",
        "rmse = np.sqrt(mse)\n",
        "r2 = r2_score(y_test, y_pred)\n",
        "\n",
        "# Print the evaluation metrics\n",
        "print(f\"Mean Squared Error (MSE) on the test set: {mse:.4f}\")\n",
        "print(f\"Root Mean Squared Error (RMSE) on the test set: {rmse:.4f}\")\n",
        "print(f\"R-squared (R2) score on the test set: {r2:.4f}\")"
      ]
    },
    {
      "cell_type": "markdown",
      "metadata": {
        "id": "509a2940"
      },
      "source": [
        "## Feature importance and visualization\n",
        "\n",
        "### Subtask:\n",
        "Feature importance and visualization\n"
      ]
    },
    {
      "cell_type": "markdown",
      "metadata": {
        "id": "bd86e98e"
      },
      "source": [
        "**Reasoning**:\n",
        "Extract the model coefficients, create a scatter plot of actual vs predicted prices, and a bar chart of feature importance based on absolute coefficients.\n",
        "\n"
      ]
    },
    {
      "cell_type": "code",
      "execution_count": null,
      "metadata": {
        "colab": {
          "base_uri": "https://localhost:8080/",
          "height": 1000
        },
        "id": "ac608c19",
        "outputId": "ff1dd0a8-1ddb-4f3f-9477-2f0d755b31ad"
      },
      "outputs": [
        {
          "data": {
            "image/png": "[encoded data removed]",
            "text/plain": [
              "<Figure size 800x600 with 1 Axes>"
            ]
          },
          "metadata": {},
          "output_type": "display_data"
        },
        {
          "name": "stdout",
          "output_type": "stream",
          "text": [
            "\n",
            "\n"
          ]
        },
        {
          "data": {
            "image/png": "[encoded data removed]",
            "text/plain": [
              "<Figure size 1000x600 with 1 Axes>"
            ]
          },
          "metadata": {},
          "output_type": "display_data"
        }
      ],
      "source": [
        "import matplotlib.pyplot as plt\n",
        "import numpy as np\n",
        "\n",
        "# 1. Extract the coefficients and features names\n",
        "coefficients = model.coef_\n",
        "feature_names = housing.feature_names\n",
        "\n",
        "# 2. Create a scatter plot of actual vs predicted prices\n",
        "plt.figure(figsize=(8, 6))\n",
        "plt.scatter(y_pred, y_test, alpha=0.5) # predicted vs actual target values\n",
        "plt.plot([y_test.min(), y_test.max()], [y_test.min(), y_test.max()], 'r--', lw=2) # Add a diagonal line\n",
        "plt.xlabel('Actual Prices')\n",
        "plt.ylabel('Predicted Prices')\n",
        "plt.title('Actual vs Predicted House Prices')\n",
        "plt.grid(True)\n",
        "plt.show()\n",
        "print('\\n')\n",
        "# 3. Create a bar chart of feature importance\n",
        "# Use absolute values of coefficients for importance\n",
        "abs_coefficients = np.abs(coefficients)\n",
        "\n",
        "# Sort features by absolute coefficient value for better visualization\n",
        "sorted_indices = np.argsort(abs_coefficients)[::-1]\n",
        "sorted_abs_coefficients = abs_coefficients[sorted_indices]\n",
        "sorted_feature_names = [feature_names[i] for i in sorted_indices]\n",
        "\n",
        "plt.figure(figsize=(10, 6))\n",
        "plt.bar(sorted_feature_names, sorted_abs_coefficients)\n",
        "plt.xlabel('Features')\n",
        "plt.ylabel('Absolute Coefficient Value')\n",
        "plt.title('Feature Importance based on Absolute Coefficients')\n",
        "plt.xticks(rotation=45, ha='right') # Rotate labels for readability\n",
        "plt.tight_layout() # Adjust layout to prevent labels overlapping\n",
        "plt.show()"
      ]
    },
    {
      "cell_type": "markdown",
      "metadata": {
        "id": "aafc4a45"
      },
      "source": [
        "## Summary:\n",
        "\n",
        "### Data Analysis Key Findings (Complete model and analysis summary)\n",
        "\n",
        "*   The California Housing dataset contains 20,640 rows and 9 columns (8 features and 1 target variable: house price).\n",
        "*   There are no missing values in the dataset, eliminating the need for imputation or removal.\n",
        "*   All features in the dataset are numerical, thus no categorical encoding was required.\n",
        "*   Feature scaling using `StandardScaler` was applied to the numerical features before splitting the data.\n",
        "*   The dataset was split into training and testing sets with an 80/20 ratio, resulting in 16,512 samples for training and 4,128 for testing.\n",
        "*   A Multiple Linear Regression model was trained on the scaled training data.\n",
        "*   The trained model has an intercept of approximately _-36.9419_(Fill the space).\n",
        "*   The features with the largest absolute coefficients were `MedInc` (Median Income) with a positive coefficient of _0.4367_(Fill the space), and `Longitude` (_-0.4345_(Fill the space)) and `Latitude` (_-0.4213_(Fill the space)) with negative coefficients, suggesting median income has the strongest positive correlation with price, while longitude and latitude have strong negative correlations.\n",
        "*   On the test set, the model achieved a Mean Squared Error (MSE) of _0.5414_(Fill the space), a Root Mean Squared Error (RMSE) of _0.7358_(Fill the space), and an R-squared (\\(R^2\\)) score of _0.5973_(Fill the space).\n",
        "*   The scatter plot of actual vs. predicted prices shows a general linear trend, indicating the model captures some of the relationship, but there is significant scatter, suggesting the model does not perfectly predict prices.\n",
        "*   The bar chart of feature importance (based on absolute coefficients) highlights `MedInc`, `Longitude`, and `Latitude` as the most influential features in predicting house prices, consistent with the coefficient values.\n",
        "\n",
        "### Insights or Next Steps (Provide insight of your analysis): Whether model performed well or poor? Should we choose model complex model? Why or why not?Limitations of model.\n",
        "\n",
        "* _The linear model has performed well for most of the test samples. However, at the higher end of prices (>3), the model tends to overestimate the price. Also, there are a number of estimated prices at exactly 5. These issues need to be addressed. We can try to train a more complex model to achieve better accuracy.\n",
        "\n",
        "\n"
      ]
    },
    {
      "cell_type": "markdown",
      "metadata": {
        "id": "rDIEODqwRZbI"
      },
      "source": [
        "# Problem-2: Multiclass Classification with IRIS Dataset"
      ]
    },
    {
      "cell_type": "markdown",
      "metadata": {
        "id": "bc668641"
      },
      "source": [
        "# Task\n",
        "Implement and evaluate multiclass classification algorithms (Logistic Regression and SVM) on the Iris dataset, including data loading, preprocessing, splitting with stratification, feature scaling, model training, and prediction."
      ]
    },
    {
      "cell_type": "markdown",
      "metadata": {
        "id": "ca0c1a6d"
      },
      "source": [
        "## Data loading and initial exploration\n",
        "\n",
        "### Subtask:\n",
        "Load the Iris dataset, display initial information, and describe its shape and missing values.\n"
      ]
    },
    {
      "cell_type": "code",
      "execution_count": null,
      "metadata": {
        "colab": {
          "base_uri": "https://localhost:8080/"
        },
        "id": "0e5d0d45",
        "outputId": "eef85422-fbfb-41c7-fa46-982e846317b3"
      },
      "outputs": [
        {
          "name": "stdout",
          "output_type": "stream",
          "text": [
            "Dataset keys: dict_keys(['data', 'target', 'frame', 'target_names', 'DESCR', 'feature_names', 'filename', 'data_module'])\n",
            "\n",
            "Dataset description:\n",
            " .. _iris_dataset:\n",
            "\n",
            "Iris plants dataset\n",
            "--------------------\n",
            "\n",
            "**Data Set Characteristics:**\n",
            "\n",
            ":Number of Instances: 150 (50 in each of three classes)\n",
            ":Number of Attributes: 4 numeric, predictive attributes and the class\n",
            ":Attribute Information:\n",
            "    - sepal length in cm\n",
            "    - sepal width in cm\n",
            "    - petal length in cm\n",
            "    - petal width in cm\n",
            "    - class:\n",
            "            - Iris-Setosa\n",
            "            - Iris-Versicolour\n",
            "            - Iris-Virginica\n",
            "\n",
            ":Summary Statistics:\n",
            "\n",
            "============== ==== ==== ======= ===== ====================\n",
            "                Min  Max   Mean    SD   Class Correlation\n",
            "============== ==== ==== ======= ===== ====================\n",
            "sepal length:   4.3  7.9   5.84   0.83    0.7826\n",
            "sepal width:    2.0  4.4   3.05   0.43   -0.4194\n",
            "petal length:   1.0  6.9   3.76   1.76    0.9490  (high!)\n",
            "petal width:    0.1  2.5   1.20   0.76    0.9565  (high!)\n",
            "============== ==== ==== ======= ===== ====================\n",
            "\n",
            ":Missing Attribute Values: None\n",
            ":Class Distribution: 33.3% for each of 3 classes.\n",
            ":Creator: R.A. Fisher\n",
            ":Donor: Michael Marshall (MARSHALL%PLU@io.arc.nasa.gov)\n",
            ":Date: July, 1988\n",
            "\n",
            "The famous Iris database, first used by Sir R.A. Fisher. The dataset is taken\n",
            "from Fisher's paper. Note that it's the same as in R, but not as in the UCI\n",
            "Machine Learning Repository, which has two wrong data points.\n",
            "\n",
            "This is perhaps the best known database to be found in the\n",
            "pattern recognition literature.  Fisher's paper is a classic in the field and\n",
            "is referenced frequently to this day.  (See Duda & Hart, for example.)  The\n",
            "data set contains 3 classes of 50 instances each, where each class refers to a\n",
            "type of iris plant.  One class is linearly separable from the other 2; the\n",
            "latter are NOT linearly separable from each other.\n",
            "\n",
            ".. dropdown:: References\n",
            "\n",
            "  - Fisher, R.A. \"The use of multiple measurements in taxonomic problems\"\n",
            "    Annual Eugenics, 7, Part II, 179-188 (1936); also in \"Contributions to\n",
            "    Mathematical Statistics\" (John Wiley, NY, 1950).\n",
            "  - Duda, R.O., & Hart, P.E. (1973) Pattern Classification and Scene Analysis.\n",
            "    (Q327.D83) John Wiley & Sons.  ISBN 0-471-22361-1.  See page 218.\n",
            "  - Dasarathy, B.V. (1980) \"Nosing Around the Neighborhood: A New System\n",
            "    Structure and Classification Rule for Recognition in Partially Exposed\n",
            "    Environments\".  IEEE Transactions on Pattern Analysis and Machine\n",
            "    Intelligence, Vol. PAMI-2, No. 1, 67-71.\n",
            "  - Gates, G.W. (1972) \"The Reduced Nearest Neighbor Rule\".  IEEE Transactions\n",
            "    on Information Theory, May 1972, 431-433.\n",
            "  - See also: 1988 MLC Proceedings, 54-64.  Cheeseman et al\"s AUTOCLASS II\n",
            "    conceptual clustering system finds 3 classes in the data.\n",
            "  - Many, many more ...\n",
            "\n",
            "\n",
            "Shape of data: (150, 4)\n",
            "Shape of target: (150,)\n"
          ]
        },
        {
          "name": "stderr",
          "output_type": "stream",
          "text": [
            "/opt/anaconda3/lib/python3.12/site-packages/sklearn/preprocessing/_label.py:114: DataConversionWarning: A column-vector y was passed when a 1d array was expected. Please change the shape of y to (n_samples, ), for example using ravel().\n",
            "  y = column_or_1d(y, warn=True)\n"
          ]
        },
        {
          "data": {
            "text/html": [
              "<div>\n",
              "<style scoped>\n",
              "    .dataframe tbody tr th:only-of-type {\n",
              "        vertical-align: middle;\n",
              "    }\n",
              "\n",
              "    .dataframe tbody tr th {\n",
              "        vertical-align: top;\n",
              "    }\n",
              "\n",
              "    .dataframe thead th {\n",
              "        text-align: right;\n",
              "    }\n",
              "</style>\n",
              "<table border=\"1\" class=\"dataframe\">\n",
              "  <thead>\n",
              "    <tr style=\"text-align: right;\">\n",
              "      <th></th>\n",
              "      <th>0</th>\n",
              "      <th>1</th>\n",
              "      <th>2</th>\n",
              "      <th>3</th>\n",
              "    </tr>\n",
              "  </thead>\n",
              "  <tbody>\n",
              "    <tr>\n",
              "      <th>count</th>\n",
              "      <td>150.000000</td>\n",
              "      <td>150.000000</td>\n",
              "      <td>150.000000</td>\n",
              "      <td>150.000000</td>\n",
              "    </tr>\n",
              "    <tr>\n",
              "      <th>mean</th>\n",
              "      <td>5.843333</td>\n",
              "      <td>3.057333</td>\n",
              "      <td>3.758000</td>\n",
              "      <td>1.199333</td>\n",
              "    </tr>\n",
              "    <tr>\n",
              "      <th>std</th>\n",
              "      <td>0.828066</td>\n",
              "      <td>0.435866</td>\n",
              "      <td>1.765298</td>\n",
              "      <td>0.762238</td>\n",
              "    </tr>\n",
              "    <tr>\n",
              "      <th>min</th>\n",
              "      <td>4.300000</td>\n",
              "      <td>2.000000</td>\n",
              "      <td>1.000000</td>\n",
              "      <td>0.100000</td>\n",
              "    </tr>\n",
              "    <tr>\n",
              "      <th>25%</th>\n",
              "      <td>5.100000</td>\n",
              "      <td>2.800000</td>\n",
              "      <td>1.600000</td>\n",
              "      <td>0.300000</td>\n",
              "    </tr>\n",
              "    <tr>\n",
              "      <th>50%</th>\n",
              "      <td>5.800000</td>\n",
              "      <td>3.000000</td>\n",
              "      <td>4.350000</td>\n",
              "      <td>1.300000</td>\n",
              "    </tr>\n",
              "    <tr>\n",
              "      <th>75%</th>\n",
              "      <td>6.400000</td>\n",
              "      <td>3.300000</td>\n",
              "      <td>5.100000</td>\n",
              "      <td>1.800000</td>\n",
              "    </tr>\n",
              "    <tr>\n",
              "      <th>max</th>\n",
              "      <td>7.900000</td>\n",
              "      <td>4.400000</td>\n",
              "      <td>6.900000</td>\n",
              "      <td>2.500000</td>\n",
              "    </tr>\n",
              "  </tbody>\n",
              "</table>\n",
              "</div>"
            ],
            "text/plain": [
              "                0           1           2           3\n",
              "count  150.000000  150.000000  150.000000  150.000000\n",
              "mean     5.843333    3.057333    3.758000    1.199333\n",
              "std      0.828066    0.435866    1.765298    0.762238\n",
              "min      4.300000    2.000000    1.000000    0.100000\n",
              "25%      5.100000    2.800000    1.600000    0.300000\n",
              "50%      5.800000    3.000000    4.350000    1.300000\n",
              "75%      6.400000    3.300000    5.100000    1.800000\n",
              "max      7.900000    4.400000    6.900000    2.500000"
            ]
          },
          "metadata": {},
          "output_type": "display_data"
        },
        {
          "data": {
            "text/html": [
              "<div>\n",
              "<style scoped>\n",
              "    .dataframe tbody tr th:only-of-type {\n",
              "        vertical-align: middle;\n",
              "    }\n",
              "\n",
              "    .dataframe tbody tr th {\n",
              "        vertical-align: top;\n",
              "    }\n",
              "\n",
              "    .dataframe thead th {\n",
              "        text-align: right;\n",
              "    }\n",
              "</style>\n",
              "<table border=\"1\" class=\"dataframe\">\n",
              "  <thead>\n",
              "    <tr style=\"text-align: right;\">\n",
              "      <th></th>\n",
              "      <th>0</th>\n",
              "    </tr>\n",
              "  </thead>\n",
              "  <tbody>\n",
              "    <tr>\n",
              "      <th>count</th>\n",
              "      <td>150.000000</td>\n",
              "    </tr>\n",
              "    <tr>\n",
              "      <th>mean</th>\n",
              "      <td>1.000000</td>\n",
              "    </tr>\n",
              "    <tr>\n",
              "      <th>std</th>\n",
              "      <td>0.819232</td>\n",
              "    </tr>\n",
              "    <tr>\n",
              "      <th>min</th>\n",
              "      <td>0.000000</td>\n",
              "    </tr>\n",
              "    <tr>\n",
              "      <th>25%</th>\n",
              "      <td>0.000000</td>\n",
              "    </tr>\n",
              "    <tr>\n",
              "      <th>50%</th>\n",
              "      <td>1.000000</td>\n",
              "    </tr>\n",
              "    <tr>\n",
              "      <th>75%</th>\n",
              "      <td>2.000000</td>\n",
              "    </tr>\n",
              "    <tr>\n",
              "      <th>max</th>\n",
              "      <td>2.000000</td>\n",
              "    </tr>\n",
              "  </tbody>\n",
              "</table>\n",
              "</div>"
            ],
            "text/plain": [
              "                0\n",
              "count  150.000000\n",
              "mean     1.000000\n",
              "std      0.819232\n",
              "min      0.000000\n",
              "25%      0.000000\n",
              "50%      1.000000\n",
              "75%      2.000000\n",
              "max      2.000000"
            ]
          },
          "metadata": {},
          "output_type": "display_data"
        },
        {
          "name": "stdout",
          "output_type": "stream",
          "text": [
            "   0\n",
            "0  0\n",
            "1  0\n",
            "2  0\n",
            "3  0\n",
            "4  0\n",
            "\n",
            "Missing values in data: Empty DataFrame\n",
            "Columns: []\n",
            "Index: [0, 1, 2, 3, 4, 5, 6, 7, 8, 9, 10, 11, 12, 13, 14, 15, 16, 17, 18, 19, 20, 21, 22, 23, 24, 25, 26, 27, 28, 29, 30, 31, 32, 33, 34, 35, 36, 37, 38, 39, 40, 41, 42, 43, 44, 45, 46, 47, 48, 49, 50, 51, 52, 53, 54, 55, 56, 57, 58, 59, 60, 61, 62, 63, 64, 65, 66, 67, 68, 69, 70, 71, 72, 73, 74, 75, 76, 77, 78, 79, 80, 81, 82, 83, 84, 85, 86, 87, 88, 89, 90, 91, 92, 93, 94, 95, 96, 97, 98, 99, ...]\n",
            "\n",
            "[150 rows x 0 columns]\n",
            "Missing values in target: Empty DataFrame\n",
            "Columns: []\n",
            "Index: [0, 1, 2, 3, 4, 5, 6, 7, 8, 9, 10, 11, 12, 13, 14, 15, 16, 17, 18, 19, 20, 21, 22, 23, 24, 25, 26, 27, 28, 29, 30, 31, 32, 33, 34, 35, 36, 37, 38, 39, 40, 41, 42, 43, 44, 45, 46, 47, 48, 49, 50, 51, 52, 53, 54, 55, 56, 57, 58, 59, 60, 61, 62, 63, 64, 65, 66, 67, 68, 69, 70, 71, 72, 73, 74, 75, 76, 77, 78, 79, 80, 81, 82, 83, 84, 85, 86, 87, 88, 89, 90, 91, 92, 93, 94, 95, 96, 97, 98, 99, ...]\n",
            "\n",
            "[150 rows x 0 columns]\n"
          ]
        }
      ],
      "source": [
        "from sklearn.datasets import load_iris\n",
        "from sklearn import preprocessing\n",
        "from sklearn import utils\n",
        "import numpy as np\n",
        "\n",
        "# Load the dataset\n",
        "iris = load_iris()\n",
        "\n",
        "# Print keys and description\n",
        "print(\"Dataset keys:\", iris.keys())\n",
        "print(\"\\nDataset description:\\n\", iris.DESCR)\n",
        "\n",
        "# Print shape of data and target\n",
        "print(\"\\nShape of data:\", iris.data.shape)\n",
        "print(\"Shape of target:\", iris.target.shape)\n",
        "\n",
        "iris_df = pd.DataFrame(iris.data)\n",
        "iris_target = pd.DataFrame(iris.target)\n",
        "lab_enc = preprocessing.LabelEncoder()\n",
        "iris_target = pd.DataFrame(lab_enc.fit_transform(iris_target))\n",
        "display(iris_df.describe())\n",
        "display(iris_target.describe())\n",
        "print(iris_target.head())\n",
        "# Check for missing values\n",
        "missing_in_data = iris_df.loc[:, iris_df.isnull().any(axis=1)]\n",
        "missing_in_target = iris_target.loc[:, iris_target.isnull().any(axis=1)]\n",
        "\n",
        "print(f\"\\nMissing values in data: {missing_in_data}\")\n",
        "print(f\"Missing values in target: {missing_in_target}\")"
      ]
    },
    {
      "cell_type": "markdown",
      "metadata": {
        "id": "0e785bef"
      },
      "source": [
        "## Data preprocessing and splitting\n",
        "\n",
        "### Subtask:\n",
        "Split the dataset into training and testing sets with stratification and perform feature scaling. Explain the importance of stratification.\n"
      ]
    },
    {
      "cell_type": "code",
      "execution_count": null,
      "metadata": {
        "colab": {
          "base_uri": "https://localhost:8080/"
        },
        "id": "d4532a62",
        "outputId": "37bd63ed-8863-40cb-f0cf-0292c93755ce"
      },
      "outputs": [
        {
          "name": "stdout",
          "output_type": "stream",
          "text": [
            "iris_df.shape=(150, 4), iris_target.shape=(150, 1)\n",
            "Shape of X_train: (105, 4)\n",
            "Shape of X_test: (45, 4)\n",
            "Shape of y_train: (105, 1)\n",
            "Shape of y_test: (45, 1)\n",
            "\n",
            "Feature scaling completed.\n",
            "Shape of scaled X_train: (105, 4)\n",
            "Shape of scaled X_test: (45, 4)\n",
            "\n",
            "Importance of Stratification:\n",
            "Stratification ensures that the proportion of each class in the original dataset is maintained in both the training and testing sets.\n",
            "This is particularly important for multiclass classification, especially when dealing with potentially imbalanced datasets.\n",
            "It helps prevent situations where one class is overrepresented in the training set and underrepresented in the test set (or vice versa), leading to more reliable model evaluation.\n"
          ]
        }
      ],
      "source": [
        "from sklearn.model_selection import train_test_split\n",
        "from sklearn.preprocessing import StandardScaler\n",
        "\n",
        "# Split the dataset into training and testing sets with stratification\n",
        "print(f'iris_df.shape={iris_df.shape}, iris_target.shape={iris_target.shape}')\n",
        "X_train, X_test, y_train, y_test = train_test_split(iris_df, iris_target, test_size=0.3, stratify=iris_target) # test size take 30% and perform stratification\n",
        "\n",
        "# Print the shapes of the resulting sets\n",
        "print(f\"Shape of X_train: {X_train.shape}\")\n",
        "print(f\"Shape of X_test: {X_test.shape}\")\n",
        "print(f\"Shape of y_train: {y_train.shape}\")\n",
        "print(f\"Shape of y_test: {y_test.shape}\")\n",
        "\n",
        "# Instantiate StandardScaler\n",
        "scaler = StandardScaler()\n",
        "\n",
        "# Fit the scaler on the training features and transform both training and testing features\n",
        "X_train_scaled = scaler.fit_transform(X_train)\n",
        "X_test_scaled = scaler.fit_transform(X_test)\n",
        "\n",
        "print(\"\\nFeature scaling completed.\")\n",
        "print(f\"Shape of scaled X_train: {X_train_scaled.shape}\")\n",
        "print(f\"Shape of scaled X_test: {X_test_scaled.shape}\")\n",
        "\n",
        "# Explain the importance of stratification\n",
        "print(\"\\nImportance of Stratification:\")\n",
        "print(\"Stratification ensures that the proportion of each class in the original dataset is maintained in both the training and testing sets.\")\n",
        "print(\"This is particularly important for multiclass classification, especially when dealing with potentially imbalanced datasets.\")\n",
        "print(\"It helps prevent situations where one class is overrepresented in the training set and underrepresented in the test set (or vice versa), leading to more reliable model evaluation.\")"
      ]
    },
    {
      "cell_type": "markdown",
      "metadata": {
        "id": "7e26923e"
      },
      "source": [
        "**Reasoning**:\n",
        "Implement and train Logistic Regression and SVM models on the scaled training data.\n",
        "\n"
      ]
    },
    {
      "cell_type": "code",
      "execution_count": null,
      "metadata": {
        "colab": {
          "base_uri": "https://localhost:8080/"
        },
        "id": "d78bb348",
        "outputId": "de2bb08e-0437-40c4-ff89-a95d1b240503"
      },
      "outputs": [
        {
          "name": "stdout",
          "output_type": "stream",
          "text": [
            "Logistic Regression model trained.\n",
            "SVM model trained.\n"
          ]
        },
        {
          "name": "stderr",
          "output_type": "stream",
          "text": [
            "/opt/anaconda3/lib/python3.12/site-packages/sklearn/utils/validation.py:1339: DataConversionWarning: A column-vector y was passed when a 1d array was expected. Please change the shape of y to (n_samples, ), for example using ravel().\n",
            "  y = column_or_1d(y, warn=True)\n",
            "/opt/anaconda3/lib/python3.12/site-packages/sklearn/utils/validation.py:1339: DataConversionWarning: A column-vector y was passed when a 1d array was expected. Please change the shape of y to (n_samples, ), for example using ravel().\n",
            "  y = column_or_1d(y, warn=True)\n"
          ]
        }
      ],
      "source": [
        "from sklearn.linear_model import LogisticRegression\n",
        "from sklearn.svm import SVC\n",
        "\n",
        "# Instantiate and train the Logistic Regression model\n",
        "lr_model = LogisticRegression(solver='liblinear')  # Use liblinear solver for simplicity\n",
        "lr_model.fit(X_train, y_train) # fit model on training data\n",
        "\n",
        "print(\"Logistic Regression model trained.\")\n",
        "\n",
        "# Instantiate and train the Support Vector Machine (SVM) model\n",
        "svm_model = SVC(gamma='auto') # Use gamma='auto' as a default\n",
        "svm_model.fit(X_train, y_train) # fit SVM model\n",
        "\n",
        "print(\"SVM model trained.\")"
      ]
    },
    {
      "cell_type": "markdown",
      "metadata": {
        "id": "2ad41680"
      },
      "source": [
        "**Reasoning**:\n",
        "Make predictions with both models on the scaled test data and evaluate their performance using accuracy, precision, recall, and the confusion matrix.\n",
        "\n"
      ]
    },
    {
      "cell_type": "code",
      "execution_count": null,
      "metadata": {
        "colab": {
          "base_uri": "https://localhost:8080/"
        },
        "id": "24535852",
        "outputId": "c4425d96-c0e3-42c1-f551-f1373bf572ce"
      },
      "outputs": [
        {
          "name": "stdout",
          "output_type": "stream",
          "text": [
            "--- Logistic Regression Evaluation ---\n",
            "Accuracy: 0.9111\n",
            "Precision: 0.9348\n",
            "Recall: 0.9111\n",
            "\n",
            "Confusion Matrix:\n",
            "[[15  0  0]\n",
            " [ 0 11  0]\n",
            " [ 0  4 15]]\n",
            "\n",
            "--- SVM Evaluation ---\n",
            "Accuracy: 0.9333\n",
            "Precision: 0.9348\n",
            "Recall: 0.9333\n",
            "\n",
            "Confusion Matrix:\n",
            "[[15  0  0]\n",
            " [ 0 13  1]\n",
            " [ 0  2 14]]\n"
          ]
        }
      ],
      "source": [
        "from sklearn.metrics import accuracy_score, precision_score, recall_score, confusion_matrix\n",
        "import numpy as np\n",
        "\n",
        "# Make predictions on the scaled test data with Logistic Regression\n",
        "y_pred_lr = lr_model.predict(X_test)\n",
        "\n",
        "# Evaluate Logistic Regression model\n",
        "accuracy_lr = accuracy_score(y_pred_lr, y_test) # accuracy score\n",
        "precision_lr = precision_score(y_pred_lr, y_test, average='weighted') # precision : take average='weighted'\n",
        "recall_lr = recall_score(y_pred_lr, y_test, average='weighted') # implement recall score\n",
        "conf_matrix_lr = confusion_matrix(y_pred_lr, y_test) # implement confusion matrix\n",
        "\n",
        "print(\"--- Logistic Regression Evaluation ---\")\n",
        "print(f\"Accuracy: {accuracy_lr:.4f}\")\n",
        "print(f\"Precision: {precision_lr:.4f}\")\n",
        "print(f\"Recall: {recall_lr:.4f}\")\n",
        "print(\"\\nConfusion Matrix:\")\n",
        "print(conf_matrix_lr)\n",
        "\n",
        "# Make predictions on the scaled test data with SVM\n",
        "y_pred_svm = svm_model.predict(X_test)\n",
        "\n",
        "# Evaluate SVM model\n",
        "accuracy_svm = accuracy_score(y_pred_svm, y_test) # accuracy score\n",
        "precision_svm = precision_score(y_pred_svm, y_test, average='weighted') # precision : take average='weighted'\n",
        "recall_svm = recall_score(y_pred_svm, y_test, average='weighted') # implement recall score\n",
        "conf_matrix_svm = confusion_matrix(y_pred_svm, y_test) # implement confusion matrix\n",
        "\n",
        "print(\"\\n--- SVM Evaluation ---\")\n",
        "print(f\"Accuracy: {accuracy_svm:.4f}\")\n",
        "print(f\"Precision: {precision_svm:.4f}\")\n",
        "print(f\"Recall: {recall_svm:.4f}\")\n",
        "print(\"\\nConfusion Matrix:\")\n",
        "print(conf_matrix_svm)\n",
        "\n",
        "#print(lr_model.coef_)\n",
        "#print(svm_model.coef_)"
      ]
    },
    {
      "cell_type": "markdown",
      "metadata": {
        "id": "81add2c2"
      },
      "source": [
        "## Summary:\n",
        "\n",
        "### Data Analysis Key Findings (Complete your findings)\n",
        "\n",
        "*   The Iris dataset was successfully loaded and confirmed to have 150 instances, 4 features, and __0__(Fill the details) missing values.\n",
        "*   The dataset was split into training (x%, X samples)__80%, 105___(Fill the details) and testing (y%, Y samples)__20%, 45___(Fill the details) sets using stratification to maintain class proportions.\n",
        "*   Feature scaling was applied using `StandardScaler` to normalize the feature values.\n",
        "*   Both Logistic Regression and SVM models were trained on the scaled training data.\n",
        "*   On the test set, Logistic Regression achieved an accuracy, precision, and recall of approximately __0.9111, 0.9348, 0.9111___(Fill the details).\n",
        "*   On the test set, SVM achieved higher performance metrics, with accuracy, precision, and recall around __0.9333, 0.9348, 0.9333___(Fill the details).\n",
        "*   The confusion matrices showed that misclassifications for both models primarily occurred between classes 1 (versicolor) and 2 (virginica), with SVM having fewer errors.\n",
        "\n",
        "### Insights or Next Steps (Analysis of which model performed well/poor and why?How to improve performance of model)\n",
        "\n",
        "* _LogisticRegression slightly underperforms SVM model.____(Fill the details)\n",
        "\n",
        "* _We used linear model (solver=liblinear) in Logistic Regression. We can try other solvers   which can catpure the non-linearity in the inputs. We can try other kernel types in SVM.____(Fill the details)\n",
        "\n",
        "\n"
      ]
    },
    {
      "cell_type": "code",
      "execution_count": null,
      "metadata": {
        "id": "hyzBBgBfR3fm"
      },
      "outputs": [],
      "source": []
    }
  ],
  "metadata": {
    "colab": {
      "provenance": []
    },
    "kernelspec": {
      "display_name": "base",
      "language": "python",
      "name": "python3"
    },
    "language_info": {
      "codemirror_mode": {
        "name": "ipython",
        "version": 3
      },
      "file_extension": ".py",
      "mimetype": "text/x-python",
      "name": "python",
      "nbconvert_exporter": "python",
      "pygments_lexer": "ipython3",
      "version": "3.12.2"
    }
  },
  "nbformat": 4,
  "nbformat_minor": 0
}
