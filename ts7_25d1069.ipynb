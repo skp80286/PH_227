{
  "nbformat": 4,
  "nbformat_minor": 0,
  "metadata": {
    "colab": {
      "provenance": []
    },
    "kernelspec": {
      "name": "python3",
      "display_name": "Python 3"
    },
    "language_info": {
      "name": "python"
    }
  },
  "cells": [
    {
      "cell_type": "markdown",
      "source": [
        "# Problem-1: Linear Regression"
      ],
      "metadata": {
        "id": "ifCOyC5YfWty"
      }
    },
    {
      "cell_type": "markdown",
      "metadata": {
        "id": "f97639aa"
      },
      "source": [
        "# Tasks List\n",
        "Complete a Jupyter notebook assignment to build a linear regression model from scratch using gradient descent. The assignment includes:\n",
        "1. **Synthetic data generation**: Generate a small dataset scattered around a line.\n",
        "2. **Function stubs**: Functions are provided for the linear regression model, cost function (Mean Squared Error), and gradient descent algorithm, with clear spaces for to fill in the code.\n",
        "3. **Training and visualization**: Complete the Code to train the model using the implemented functions and visualize the results (original data and fitted line).\n",
        "5. **Explanations about the step**: Brief explanations for each step of the process are provided. The goal is to understand the underlying mechanics of linear regression and gradient descent."
      ]
    },
    {
      "cell_type": "markdown",
      "metadata": {
        "id": "24a05b83"
      },
      "source": [
        "## 1. Generate synthetic data\n",
        "\n",
        "### Subtask:\n",
        "Create a small dataset of 10 points scattered around a line.\n"
      ]
    },
    {
      "cell_type": "code",
      "metadata": {
        "colab": {
          "base_uri": "https://localhost:8080/"
        },
        "id": "9a2b82b5",
        "outputId": "0ed04079-b886-42b2-ee67-1066a1c51e6d"
      },
      "source": [
        "import numpy as np\n",
        "import matplotlib.pyplot as plt\n",
        "\n",
        "# Generate 10 random values for X\n",
        "np.random.seed(42) # for reproducibility\n",
        "X = 10 * np.random.rand(10, 1)\n",
        "\n",
        "# Generate y based on a linear relationship with noise\n",
        "y = 2 * X + 1 + np.random.randn(10, 1)*3\n",
        "\n",
        "# Print the shapes of X and y\n",
        "print(\"Shape of X:\", X.shape)\n",
        "print(\"Shape of y:\", y.shape)"
      ],
      "execution_count": 126,
      "outputs": [
        {
          "output_type": "stream",
          "name": "stdout",
          "text": [
            "Shape of X: (10, 1)\n",
            "Shape of y: (10, 1)\n"
          ]
        }
      ]
    },
    {
      "cell_type": "markdown",
      "source": [
        "### 2. Train and Test Split"
      ],
      "metadata": {
        "id": "y4f9XvfVMQF5"
      }
    },
    {
      "cell_type": "code",
      "source": [
        "## Train and Test Data splitting:\n",
        "\n",
        "print('  X(feature)','|','y(output)')\n",
        "print('-------------------------')\n",
        "for i,j in zip(X,y):\n",
        "  print(' ',round(i[0],4),'    |',round(j[0],4))\n",
        "\n",
        "print('-------------------------') # Here are list of unknown 'y' that need to be predicted\n",
        "                                   # using feature value\n",
        "print(' ',round(4.2562,4),'    |','?')\n",
        "print(' ',round(2.3456,4),'    |','?')\n",
        "print(' ',round(9.2134,4),'    |','?')"
      ],
      "metadata": {
        "colab": {
          "base_uri": "https://localhost:8080/"
        },
        "id": "dV9NS0CJCTtF",
        "outputId": "1b070711-3347-48e3-d4d7-d8230a048b74"
      },
      "execution_count": 127,
      "outputs": [
        {
          "output_type": "stream",
          "name": "stdout",
          "text": [
            "  X(feature) | y(output)\n",
            "-------------------------\n",
            "  3.7454     | 7.0824\n",
            "  9.5071     | 21.642\n",
            "  7.3199     | 14.2496\n",
            "  5.9866     | 11.576\n",
            "  1.5602     | 4.8463\n",
            "  1.5599     | -1.62\n",
            "  0.5808     | -3.0131\n",
            "  8.6618     | 16.6367\n",
            "  6.0112     | 9.9838\n",
            "  7.0807     | 16.1042\n",
            "-------------------------\n",
            "  4.2562     | ?\n",
            "  2.3456     | ?\n",
            "  9.2134     | ?\n"
          ]
        }
      ]
    },
    {
      "cell_type": "markdown",
      "source": [
        "### Our goal is to find the output value when feature values are 4.2562, 2.3456 and 9.2134"
      ],
      "metadata": {
        "id": "YuM__UKlD0Le"
      }
    },
    {
      "cell_type": "markdown",
      "metadata": {
        "id": "4175e9c3"
      },
      "source": [
        "### 3. Implement the linear regression model\n",
        "\n",
        "### Subtask:\n",
        "Create a function for the linear regression model.\n"
      ]
    },
    {
      "cell_type": "markdown",
      "metadata": {
        "id": "faffa176"
      },
      "source": [
        "The linear regression hypothesis predicts the output $y$ based on a linear combination of the input features $X$ and the model parameters $\\theta$. In the case of a single feature, the hypothesis can be written as:\n",
        "\n",
        "$$ h_\\theta(x) = \\theta_0 + \\theta_1 x $$\n",
        "\n",
        "where:\n",
        "- $h_\\theta(x)$ is the predicted output.\n",
        "- $\\theta_0$ is the bias term (intercept).\n",
        "- $\\theta_1$ is the weight for the input feature $x$.\n",
        "\n",
        "More generally, for multiple features, the hypothesis can be expressed in matrix form as:\n",
        "\n",
        "$$ h_\\theta(X) = X\\theta $$\n",
        "\n",
        "where:\n",
        "- $X$ is the matrix of input features (with a column of ones for the bias term).\n",
        "- $\\theta$ is the vector of model parameters (weights and bias).\n",
        "\n",
        "Alternatively, the hypothesis can be written in terms of weights $w$ and bias $\\theta_0$ as:\n",
        "\n",
        "$$ h(x) = w^T x + \\theta_0 $$"
      ]
    },
    {
      "cell_type": "code",
      "metadata": {
        "id": "345cc39e"
      },
      "source": [
        "def linear_regression_model(X, theta):\n",
        "  \"\"\"\n",
        "  Calculates the predicted values using a linear regression model.\n",
        "\n",
        "  Args:\n",
        "    X: Input features (numpy array).\n",
        "    theta: Model parameters [weight, bias] (numpy array).\n",
        "\n",
        "  Returns:\n",
        "    Predicted values (numpy array).\n",
        "  \"\"\"\n",
        "  # TODO: Student: Write your code here to calculate the predicted values\n",
        "  # based on X and theta.\n",
        "  return X @ theta\n"
      ],
      "execution_count": 128,
      "outputs": []
    },
    {
      "cell_type": "markdown",
      "metadata": {
        "id": "0d134e7c"
      },
      "source": [
        "## 4. Implement the cost function\n",
        "\n",
        "### Subtask:\n",
        "Complete a function for the mean squared error cost function.\n"
      ]
    },
    {
      "cell_type": "markdown",
      "metadata": {
        "id": "d4ba111b"
      },
      "source": [
        "The Mean Squared Error (MSE) is a common cost function used in linear regression. It measures the average squared difference between the actual target values ($y^{(i)}$) and the predicted values ($h_\\theta(x^{(i)})$). The formula for MSE is:\n",
        "\n",
        "$$ J(\\theta) = \\frac{1}{m} \\sum_{i=1}^m (h_\\theta(x^{(i)}) - y^{(i)})^2 $$\n",
        "\n",
        "where:\n",
        "- $m$ is the number of training examples.\n",
        "- $y^{(i)}$ is the actual target value for the $i$-th training example.\n",
        "- $h_\\theta(x^{(i)})$ is the predicted value for the $i$-th training example.\n",
        "- $\\theta$ represents the model parameters."
      ]
    },
    {
      "cell_type": "code",
      "metadata": {
        "id": "8940c6be"
      },
      "source": [
        "def cost_function(y_true, y_pred):\n",
        "  \"\"\"\n",
        "  Calculates the Mean Squared Error (MSE) cost.\n",
        "\n",
        "  Args:\n",
        "    y_true: The actual target values (numpy array).\n",
        "    y_pred: The predicted values from the linear regression model (numpy array).\n",
        "\n",
        "  Returns:\n",
        "    The Mean Squared Error (float).\n",
        "  \"\"\"\n",
        "  # TODO: Student: Write your code here to calculate the Mean Squared Error\n",
        "  return (np.sum((y_true - y_pred)**2))/len(y_true)"
      ],
      "execution_count": 129,
      "outputs": []
    },
    {
      "cell_type": "markdown",
      "metadata": {
        "id": "6b3711fe"
      },
      "source": [
        "## 5. Implement gradient descent\n",
        "\n",
        "### Subtask:\n",
        "Create a function for the gradient descent algorithm, leaving space for the student to fill in the code.\n"
      ]
    },
    {
      "cell_type": "markdown",
      "source": [
        "Gradient descent is an iterative optimization algorithm used to find the minimum of a function. In linear regression, we use it to find the optimal parameters ($\\theta$) that minimize the Mean Squared Error (MSE) cost function $J(\\theta)$. The algorithm proceeds as follows:\n",
        "\n",
        "1. **Initialize parameters**: Start with an initial guess for the parameters $\\theta$ (e.g., a vector of zeros).\n",
        "2. **Calculate the predicted values**: For the current parameters, calculate the predicted value for each training example using the linear regression hypothesis: $h_\\theta(x^{(i)}) = \\theta^T x^{(i)}$.\n",
        "3. **Calculate the error**: Compute the difference between the predicted values and the actual target values: $error^{(i)} = h_\\theta(x^{(i)}) - y^{(i)}$.\n",
        "4. **Calculate the gradients**: Compute the gradient of the cost function with respect to each parameter. The gradient indicates the direction of the steepest increase in the cost function. For linear regression, the gradient for each parameter $j$ is given by:\n",
        "$$ \\frac{\\partial J(\\theta)}{\\partial \\theta_j} = \\frac{2}{m} \\sum_{i=1}^m (h_\\theta(x^{(i)}) - y^{(i)}) x_j^{(i)} $$\n",
        "5. **Update the parameters**: Update the parameters in the opposite direction of the gradient, scaled by the learning rate ($\\alpha$). This moves the parameters towards the minimum of the cost function:\n",
        "$$ \\theta_j := \\theta_j - \\alpha \\frac{\\partial J(\\theta)}{\\partial \\theta_j} $$\n",
        "6. **Repeat**: Repeat steps 2-5 for a specified number of iterations or until the change in the cost function is below a certain threshold."
      ],
      "metadata": {
        "id": "FhoACohWq4Qc"
      }
    },
    {
      "cell_type": "code",
      "metadata": {
        "id": "30bb4b19"
      },
      "source": [
        "def gradient_descent(X, y_true, theta, learning_rate, num_iterations):\n",
        "    \"\"\"\n",
        "    Performs gradient descent to optimize the model parameters.\n",
        "\n",
        "    Args:\n",
        "        X: Input features (numpy array).\n",
        "        y_true: Actual target values (numpy array).\n",
        "        theta: Initial model parameters [weight, bias] (numpy array).\n",
        "        learning_rate: The step size for updating parameters (float).\n",
        "        num_iterations: The number of iterations to perform gradient descent (int).\n",
        "\n",
        "    Returns:\n",
        "        A tuple containing:\n",
        "            - The optimized model parameters (numpy array).\n",
        "            - A list of cost values at each iteration (list).\n",
        "    \"\"\"\n",
        "    cost_history = []\n",
        "\n",
        "    for i in range(num_iterations):\n",
        "        # TODO: Student: Calculate predicted values, error, and gradients here.\n",
        "\n",
        "        # TODO: Student: Update the parameters (theta) here using the gradients and learning rate.\n",
        "\n",
        "        # Calculate the cost for the current iteration and append to history\n",
        "        y_pred = linear_regression_model(X, theta) # Assuming linear_regression_model is defined\n",
        "        cost = cost_function(y_true, y_pred) # Assuming cost_function is defined\n",
        "        cost_history.append(cost)\n",
        "        #print(f'X={X}\\ntheta={theta}\\ny_pred={y_pred}\\ncost={cost}')\n",
        "        #print(f'y_pred.shape={y_pred.shape}')\n",
        "        #print(f'y_true.shape={y_true.shape}')\n",
        "        #print(f'X.shape={X.shape}')\n",
        "\n",
        "        gradient = (2/len(y_true)) * (X.transpose() @ (y_pred - y_true))\n",
        "        #print(f'gradient={gradient}')\n",
        "        theta -= learning_rate * gradient\n",
        "    print(f'theta={theta}')\n",
        "    return theta, cost_history"
      ],
      "execution_count": 130,
      "outputs": []
    },
    {
      "cell_type": "markdown",
      "metadata": {
        "id": "14cfcea1"
      },
      "source": [
        "## 6. Model Training\n",
        "\n",
        "### Subtask:\n",
        "Use the gradient descent function to find the optimal parameters for the linear regression model.\n"
      ]
    },
    {
      "cell_type": "markdown",
      "metadata": {
        "id": "2694e869"
      },
      "source": [
        "Initialize parameters, define learning rate and number of iterations, and call the gradient descent function to find the optimal parameters.\n",
        "\n"
      ]
    },
    {
      "cell_type": "code",
      "metadata": {
        "colab": {
          "base_uri": "https://localhost:8080/"
        },
        "id": "3c973e48",
        "outputId": "6e77f433-4b9e-43ee-eb87-0ebdd2f4241c"
      },
      "source": [
        "# Add a column of ones to X for the bias term\n",
        "X_b = np.c_[np.ones((10, 1)), X]\n",
        "\n",
        "# Initialize model parameters (theta)\n",
        "# theta will have shape (2, 1) for bias and weight\n",
        "theta_initial = np.zeros((2, 1))\n",
        "\n",
        "# Define hyperparameters\n",
        "learning_rate = 0.01\n",
        "num_iterations = 1000\n",
        "\n",
        "# Call the gradient_descent function\n",
        "theta_optimized, cost_history = gradient_descent(X_b, y, theta_initial, learning_rate, num_iterations)\n",
        "\n",
        "# Print the optimized parameters\n",
        "print(\"Optimized Parameters (theta):\")\n",
        "print(theta_optimized)"
      ],
      "execution_count": 131,
      "outputs": [
        {
          "output_type": "stream",
          "name": "stdout",
          "text": [
            "theta=[[-2.98443082]\n",
            " [ 2.44921074]]\n",
            "Optimized Parameters (theta):\n",
            "[[-2.98443082]\n",
            " [ 2.44921074]]\n"
          ]
        }
      ]
    },
    {
      "cell_type": "markdown",
      "metadata": {
        "id": "8df9ce07"
      },
      "source": [
        "**Reasoning**:\n",
        "The gradient descent function stub contains 'pass' statements, preventing the optimization from occurring. The provided `theta_optimized` being zeros confirms this.\n",
        "\n"
      ]
    },
    {
      "cell_type": "markdown",
      "source": [
        "### 7. Prediction on Test data"
      ],
      "metadata": {
        "id": "Ogx1aS_MN1jq"
      }
    },
    {
      "cell_type": "markdown",
      "source": [
        "### Now, lets predict the output values of unknown feature values"
      ],
      "metadata": {
        "id": "e2Ckdde9F-6X"
      }
    },
    {
      "cell_type": "code",
      "source": [
        "X_test = np.array([[4.2562],[2.3456],[9.2134]])\n",
        "X_t = np.array([[1.,4.2562],[1., 2.3456],[1.0, 9.2134]])\n",
        "print(X_t)"
      ],
      "metadata": {
        "colab": {
          "base_uri": "https://localhost:8080/"
        },
        "id": "OHX40LY-EeTf",
        "outputId": "00af7b13-10f8-4c95-a6b0-286bcf176c77"
      },
      "execution_count": 132,
      "outputs": [
        {
          "output_type": "stream",
          "name": "stdout",
          "text": [
            "[[1.     4.2562]\n",
            " [1.     2.3456]\n",
            " [1.     9.2134]]\n"
          ]
        }
      ]
    },
    {
      "cell_type": "code",
      "source": [
        "y_test = linear_regression_model(X_t, theta_optimized)\n",
        "print(y_test)"
      ],
      "metadata": {
        "colab": {
          "base_uri": "https://localhost:8080/"
        },
        "id": "Mh3vYldXEX_A",
        "outputId": "922f6047-1ae3-408e-816a-61c2d80a75fe"
      },
      "execution_count": 133,
      "outputs": [
        {
          "output_type": "stream",
          "name": "stdout",
          "text": [
            "[[ 7.43989992]\n",
            " [ 2.76043788]\n",
            " [19.58112739]]\n"
          ]
        }
      ]
    },
    {
      "cell_type": "code",
      "source": [],
      "metadata": {
        "id": "khKVetagGNrm"
      },
      "execution_count": 133,
      "outputs": []
    },
    {
      "cell_type": "markdown",
      "metadata": {
        "id": "ef72cf6a"
      },
      "source": [
        "## 8. Visualize the results\n",
        "\n",
        "### Subtask:\n",
        "Plot the original data points and the fitted regression line.\n"
      ]
    },
    {
      "cell_type": "markdown",
      "metadata": {
        "id": "c91c2acb"
      },
      "source": [
        "Plot the original data points and the fitted regression line using the optimized parameters.\n",
        "\n"
      ]
    },
    {
      "cell_type": "code",
      "metadata": {
        "colab": {
          "base_uri": "https://localhost:8080/",
          "height": 472
        },
        "id": "521d98f7",
        "outputId": "816cfb73-aa21-4b9e-9588-0c4e69f55b8e"
      },
      "source": [
        "# Plot the original data points\n",
        "plt.scatter(X, y, color='blue', label='Original Data')\n",
        "\n",
        "# Generate x-values for the regression line\n",
        "X_line = np.array([[0], [10]]) # Create two points for the line\n",
        "\n",
        "# Add a column of ones for the bias term\n",
        "X_line_b = np.c_[np.ones((2, 1)), X_line]\n",
        "\n",
        "# Calculate the corresponding y-values for the regression line\n",
        "y_line = linear_regression_model(X_line_b, theta_optimized)\n",
        "\n",
        "# Plot the regression line\n",
        "plt.plot(X_line, y_line, color='red', label='Fitted Line')\n",
        "\n",
        "plt.scatter(X_test, y_test, color='green', label='Test Data',marker='*')\n",
        "\n",
        "\n",
        "# Draw the vertical dashed line from the point (5, 4) to the x-axis\n",
        "# The arguments are: x-position, y-start, y-end\n",
        "plt.vlines(X_test, -4, y_test, color='grey', linestyle=':')\n",
        "\n",
        "# Draw the horizontal dashed line from the point (5, 4) to the y-axis\n",
        "# The arguments are: y-position, x-start, x-end\n",
        "plt.hlines(y_test, 0, X_test, color='grey', linestyle=':')\n",
        "\n",
        "# Add labels and title\n",
        "plt.xlabel(\"X\")\n",
        "plt.ylabel(\"y\")\n",
        "plt.title(\"Linear Regression with Gradient Descent\")\n",
        "plt.legend()\n",
        "plt.show()"
      ],
      "execution_count": 134,
      "outputs": [
        {
          "output_type": "display_data",
          "data": {
            "text/plain": [
              "<Figure size 640x480 with 1 Axes>"
            ],
            "image/png": "[encoded data removed]"
          },
          "metadata": {}
        }
      ]
    },
    {
      "cell_type": "markdown",
      "metadata": {
        "id": "49f9e6a5"
      },
      "source": [
        "## Summary:\n",
        "\n",
        "### Data Analysis Key Findings\n",
        "\n",
        "*   A synthetic dataset of 10 points was successfully generated using a linear relationship with added noise, simulating data suitable for linear regression.\n",
        "*   Function stubs for `linear_regression_model`, `cost_function` (Mean Squared Error), and `gradient_descent` were created with designated areas and included docstrings explaining their purpose.\n",
        "*   Hidden cells containing the correct implementations of the `linear_regression_model`, `cost_function`, and `gradient_descent` were created to provide solutions.\n",
        "*   The gradient descent algorithm, using the implemented functions, successfully optimized the model parameters (weight and bias) to fit the synthetic data. The optimized parameters found were approximately `[[1.016], [1.958]]`.\n",
        "*   A plot was generated showing the original data points and the fitted line based on the optimized parameters, visually demonstrating the result of the linear regression.\n",
        "\n",
        "### Insights or Next Steps\n",
        "\n",
        "*   The created notebook structure effectively guides through implementing core machine learning concepts from scratch.\n",
        "*   Adding a visualization of the cost history over iterations would further illustrate the convergence of the gradient descent algorithm for students.\n"
      ]
    },
    {
      "cell_type": "code",
      "source": [
        "# Plot the original data points\n",
        "plt.plot(cost_history[3:], color='blue', label='Cost History')\n",
        "\n",
        "# Add labels and title\n",
        "plt.xlabel(\"Iteration #\")\n",
        "plt.ylabel(\"Cost\")\n",
        "plt.title(\"Error minimization with gradient descent\")\n",
        "plt.legend()\n",
        "plt.show()"
      ],
      "metadata": {
        "colab": {
          "base_uri": "https://localhost:8080/",
          "height": 472
        },
        "id": "hi2H76ovc053",
        "outputId": "33e05de5-08ad-43fa-f107-13b267dd522d"
      },
      "execution_count": 135,
      "outputs": [
        {
          "output_type": "display_data",
          "data": {
            "text/plain": [
              "<Figure size 640x480 with 1 Axes>"
            ],
            "image/png": "[encoded data removed]"
          },
          "metadata": {}
        }
      ]
    },
    {
      "cell_type": "markdown",
      "source": [
        "# Problem-2(a): Logistic Regression (Classification Problem: two features)"
      ],
      "metadata": {
        "id": "qI-aliQ8iEOT"
      }
    },
    {
      "cell_type": "markdown",
      "metadata": {
        "id": "5ba934aa"
      },
      "source": [
        "# Task\n",
        "Complete the following functions to implement logistic regression from scratch. The assignment include:\n",
        "- Generation of a small synthetic dataset (20-30 points) for binary classification task (malign/benign).\n",
        "- Separate functions for the logistic regression hypothesis (sigmoid), cost function (binary cross-entropy), and gradient descent, with clear spaces to fill in the code.\n",
        "- Hidden solution cells below each function implementation.\n",
        "- Training of the logistic regression model using the implemented functions.\n",
        "- Visualization of the data and the learned decision boundary.\n",
        "- Explanations for each step of the logistic regression process."
      ]
    },
    {
      "cell_type": "markdown",
      "metadata": {
        "id": "e93c4043"
      },
      "source": [
        "## 1. Generate synthetic data\n",
        "\n",
        "### Subtask:\n",
        "Create a small dataset (20-30 points) for binary classification (malign/benign) that is linearly separable.\n"
      ]
    },
    {
      "cell_type": "markdown",
      "metadata": {
        "id": "413e8296"
      },
      "source": [
        "The subtask is to generate a synthetic dataset for binary classification. Use `make_blobs` from `sklearn.datasets` to create a dataset with 20-30 points, two centers, and a small standard deviation to ensure linear separability. Store the features in `X` and the labels in `y` and print their shapes.\n",
        "\n"
      ]
    },
    {
      "cell_type": "code",
      "metadata": {
        "colab": {
          "base_uri": "https://localhost:8080/"
        },
        "id": "26379fee",
        "outputId": "4fe75a5c-9992-4ab0-ed75-59d52e89bace"
      },
      "source": [
        "from sklearn.datasets import make_blobs\n",
        "\n",
        "# Generate synthetic data for binary classification\n",
        "X, y = make_blobs(n_samples=25, centers=2, random_state=42, cluster_std=1.0)\n",
        "\n",
        "# Print the shapes of X and y\n",
        "print(\"Shape of X:\", X.shape)\n",
        "print(\"Shape of y:\", y.shape)"
      ],
      "execution_count": 136,
      "outputs": [
        {
          "output_type": "stream",
          "name": "stdout",
          "text": [
            "Shape of X: (25, 2)\n",
            "Shape of y: (25,)\n"
          ]
        }
      ]
    },
    {
      "cell_type": "markdown",
      "source": [
        "### 2. Train and Test split"
      ],
      "metadata": {
        "id": "n2PSQKgOYu46"
      }
    },
    {
      "cell_type": "code",
      "source": [
        "print('  [X1(feature), X2(feature)]','|','y(output)')\n",
        "print('-------------------------')\n",
        "for i,j in zip(X,y):\n",
        "  print('Feature ',i,'   Label:',j)\n",
        "\n",
        "print('-------------------------') # Here are list of unknown 'y' that need to be predicted\n",
        "                                   # using feature value\n",
        "print('Feature ',[-2.7,12.34],'    Label: ','?')\n",
        "print('Feature ',[2.5,-5],'    |','    Label: ','?')\n",
        "print('Feature ',[1,-5],'    |','    Label: ','?')"
      ],
      "metadata": {
        "colab": {
          "base_uri": "https://localhost:8080/"
        },
        "id": "wzmckZXXOs2o",
        "outputId": "f765d280-af37-4e63-8c6a-d4678dc32e51"
      },
      "execution_count": 137,
      "outputs": [
        {
          "output_type": "stream",
          "name": "stdout",
          "text": [
            "  [X1(feature), X2(feature)] | y(output)\n",
            "-------------------------\n",
            "Feature  [4.03817222 3.82544787]    Label: 1\n",
            "Feature  [-4.23411546  8.4519986 ]    Label: 0\n",
            "Feature  [3.96295684 2.58484597]    Label: 1\n",
            "Feature  [4.98349713 0.21012953]    Label: 1\n",
            "Feature  [4.17924007 3.03029191]    Label: 1\n",
            "Feature  [3.31169279 2.17003092]    Label: 1\n",
            "Feature  [-0.92998481  9.78172086]    Label: 0\n",
            "Feature  [-2.97261532  8.54855637]    Label: 0\n",
            "Feature  [3.16135685 1.25332548]    Label: 1\n",
            "Feature  [-3.10983631  8.72259238]    Label: 0\n",
            "Feature  [4.62638161 0.91545875]    Label: 1\n",
            "Feature  [-3.6601912   9.38998415]    Label: 0\n",
            "Feature  [-1.04354885  8.78850983]    Label: 0\n",
            "Feature  [5.46242375 0.75232603]    Label: 1\n",
            "Feature  [-3.52202874  9.32853346]    Label: 0\n",
            "Feature  [-2.44166942  7.58953794]    Label: 0\n",
            "Feature  [-2.26723535  7.10100588]    Label: 0\n",
            "Feature  [-2.743351    8.78014917]    Label: 0\n",
            "Feature  [4.52423055 1.67206599]    Label: 1\n",
            "Feature  [-2.97867201  9.55684617]    Label: 0\n",
            "Feature  [-3.4172217   7.60198243]    Label: 0\n",
            "Feature  [4.84874243 0.01349956]    Label: 1\n",
            "Feature  [5.37834542 2.14453797]    Label: 1\n",
            "Feature  [-3.05358035  9.12520872]    Label: 0\n",
            "Feature  [4.96396281 1.5880874 ]    Label: 1\n",
            "-------------------------\n",
            "Feature  [-2.7, 12.34]     Label:  ?\n",
            "Feature  [2.5, -5]     |     Label:  ?\n",
            "Feature  [1, -5]     |     Label:  ?\n"
          ]
        }
      ]
    },
    {
      "cell_type": "markdown",
      "metadata": {
        "id": "d13a6995"
      },
      "source": [
        "## 3. Implement the logistic regression hypothesis\n",
        "\n",
        "Create a function for the logistic regression hypothesis (sigmoid function).\n"
      ]
    },
    {
      "cell_type": "markdown",
      "metadata": {
        "id": "ba7dfec4"
      },
      "source": [
        "Sigmoid function is defined as :\n",
        "\n"
      ]
    },
    {
      "cell_type": "markdown",
      "metadata": {
        "id": "5958590f"
      },
      "source": [
        "The sigmoid function is a key component in logistic regression. It squashes any real-valued number into a value between 0 and 1. The functional form of the sigmoid function is:\n",
        "\n",
        "$$ \\sigma(z) = \\frac{1}{1 + e^{-z}} $$\n",
        "\n",
        "where $z$ is the input (e.g., the linear combination of features and weights)."
      ]
    },
    {
      "cell_type": "code",
      "metadata": {
        "id": "84da5d65"
      },
      "source": [
        "def sigmoid(z):\n",
        "  \"\"\"\n",
        "  Calculates the sigmoid of z.\n",
        "\n",
        "  Args:\n",
        "    z: Input value or array (numpy array).\n",
        "\n",
        "  Returns:\n",
        "    The sigmoid of z (numpy array).\n",
        "  \"\"\"\n",
        "  # TODO: Student: Write your code here to calculate the sigmoid of z\n",
        "  return 1/(1+np.exp(-z))"
      ],
      "execution_count": 138,
      "outputs": []
    },
    {
      "cell_type": "markdown",
      "metadata": {
        "id": "d21c9cd3"
      },
      "source": [
        "## 4. Implement the cost function\n",
        "\n",
        "### Subtask:\n",
        "Create a function for the binary cross-entropy cost function, leaving space for the student to fill in the code.\n"
      ]
    },
    {
      "cell_type": "markdown",
      "metadata": {
        "id": "85952e66"
      },
      "source": [
        "Define the `binary_cross_entropy` function with a placeholder.\n",
        "\n"
      ]
    },
    {
      "cell_type": "markdown",
      "metadata": {
        "id": "6fb632e2"
      },
      "source": [
        "The binary cross-entropy cost function is commonly used in logistic regression to measure the performance of a classification model whose output is a probability value between 0 and 1. It is defined as:\n",
        "\n",
        "$$ J(\\theta) = -\\frac{1}{m} \\sum_{i=1}^m [y^{(i)} \\log(h_\\theta(x^{(i)})) + (1 - y^{(i)}) \\log(1 - h_\\theta(x^{(i)}))] $$\n",
        "\n",
        "where:\n",
        "- $m$ is the number of training examples.\n",
        "- $y^{(i)}$ is the actual label for the $i$-th training example (0 or 1).\n",
        "- $h_\\theta(x^{(i)})$ is the predicted probability for the $i$-th training example."
      ]
    },
    {
      "cell_type": "code",
      "metadata": {
        "id": "c32ed2ed"
      },
      "source": [
        "def binary_cross_entropy(y_true, y_pred):\n",
        "  \"\"\"\n",
        "  Calculates the Binary Cross-Entropy cost.\n",
        "\n",
        "  Args:\n",
        "    y_true: The actual target values (numpy array).\n",
        "    y_pred: The predicted probability values from the sigmoid function (numpy array).\n",
        "\n",
        "  Returns:\n",
        "    The Binary Cross-Entropy cost (float).\n",
        "  \"\"\"\n",
        "  # TODO: Student: Write your code here to calculate the binary cross-entropy cost.\n",
        "  y_pred = np.clip(y_pred, 1e-10, 1 - 1e-10)\n",
        "  #print(f'y_true={y_true}\\nlog(y_pred)={np.log(y_pred)}\\nproduct={y_true*np.log(y_pred)}\\nprod1={np.log(1- y_pred)}')\n",
        "  sum=(y_true*np.log(y_pred) + (1 - y_true)*np.log(1 - y_pred))\n",
        "  #print(f'sum={sum}')\n",
        "  cost=(-1/len(y_true))*np.nansum(sum)\n",
        "\n",
        "  return cost"
      ],
      "execution_count": 139,
      "outputs": []
    },
    {
      "cell_type": "markdown",
      "metadata": {
        "id": "19e91b51"
      },
      "source": [
        "## 5. Implement gradient descent\n",
        "\n",
        "### Subtask:\n",
        "Create a function for the gradient descent algorithm for logistic regression.\n"
      ]
    },
    {
      "cell_type": "markdown",
      "metadata": {
        "id": "bc1e6b3a"
      },
      "source": [
        "Define the `gradient_descent_logistic` function with the specified arguments, docstring, and placeholder comments, including the loop and cost calculation.\n",
        "\n"
      ]
    },
    {
      "cell_type": "markdown",
      "metadata": {
        "id": "3ea9469f"
      },
      "source": [
        "Gradient descent is an iterative optimization algorithm used to find the minimum of a function. In logistic regression, we use it to find the optimal parameters ($\\theta$) that minimize the binary cross-entropy cost function $J(\\theta)$. The algorithm proceeds as follows:\n",
        "\n",
        "1. **Initialize parameters**: Start with an initial guess for the parameters $\\theta$ (e.g., a vector of zeros).\n",
        "2. **Calculate the predicted probabilities**: For the current parameters, calculate the predicted probability for each training example using the sigmoid function: $h_\\theta(x^{(i)}) = \\sigma(\\theta^T x^{(i)})$.\n",
        "3. **Calculate the error**: Compute the difference between the predicted probabilities and the actual labels: $error^{(i)} = h_\\theta(x^{(i)}) - y^{(i)}$.\n",
        "4. **Calculate the gradients**: Compute the gradient of the cost function with respect to each parameter. The gradient indicates the direction of the steepest increase in the cost function. For logistic regression, the gradient for each parameter $j$ is given by:\n",
        "   $$ \\frac{\\partial J(\\theta)}{\\partial \\theta_j} = \\frac{1}{m} \\sum_{i=1}^m (h_\\theta(x^{(i)}) - y^{(i)}) x_j^{(i)} $$\n",
        "5. **Update the parameters**: Update the parameters in the opposite direction of the gradient, scaled by the learning rate ($\\alpha$). This moves the parameters towards the minimum of the cost function:\n",
        "   $$ \\theta_j := \\theta_j - \\alpha \\frac{\\partial J(\\theta)}{\\partial \\theta_j} $$\n",
        "6. **Repeat**: Repeat steps 2-5 for a specified number of iterations or until the change in the cost function is below a certain threshold."
      ]
    },
    {
      "cell_type": "code",
      "metadata": {
        "id": "d779eace"
      },
      "source": [
        "def gradient_descent_logistic(X, y_true, theta, learning_rate, num_iterations):\n",
        "    \"\"\"\n",
        "    Performs gradient descent to optimize the model parameters for logistic regression.\n",
        "\n",
        "    Args:\n",
        "        X: Input features (numpy array).\n",
        "        y_true: Actual target values (numpy array).\n",
        "        theta: Initial model parameters (numpy array).\n",
        "        learning_rate: The step size for updating parameters (float).\n",
        "        num_iterations: The number of iterations to perform gradient descent (int).\n",
        "\n",
        "    Returns:\n",
        "        A tuple containing:\n",
        "            - The optimized model parameters (numpy array).\n",
        "            - A list of cost values at each iteration (list).\n",
        "    \"\"\"\n",
        "    cost_history = []\n",
        "    m = len(y_true)\n",
        "    #print(f'X={X}\\ntheta={theta}')\n",
        "\n",
        "    for i in range(num_iterations):\n",
        "        # TODO: Student: Calculate predicted probabilities (y_pred), error, and gradients here.\n",
        "        y_pred = np.sum(X @ theta, axis=1).reshape(-1,1)\n",
        "        #print(f'y_pred={y_pred}')\n",
        "        #print(f'y_true={y_true}')\n",
        "        gradient = (2/len(y_true)) * (X.transpose() @ (y_pred - y_true))\n",
        "        #print(f'gradient={gradient}')\n",
        "        # TODO: Student: Update the parameters (theta) here using the gradients and learning rate.\n",
        "        theta -= learning_rate * gradient\n",
        "        #print(f'theta={theta}')\n",
        "\n",
        "        # Calculate the cost for the current iteration and append to history\n",
        "        # Assuming sigmoid and binary_cross_entropy are defined\n",
        "        #y_pred = sigmoid(X.dot(theta))\n",
        "        #print(f'y_pred1={y_pred}')\n",
        "        cost = binary_cross_entropy(y_true, y_pred)\n",
        "        #print(f'cost={cost}')\n",
        "        cost_history.append(cost)\n",
        "\n",
        "    return theta, cost_history"
      ],
      "execution_count": 140,
      "outputs": []
    },
    {
      "cell_type": "markdown",
      "metadata": {
        "id": "30bd2003"
      },
      "source": [
        "## Train the model\n",
        "\n",
        "### Subtask:\n",
        "Use the gradient descent function to find the optimal parameters for the logistic regression model.\n"
      ]
    },
    {
      "cell_type": "markdown",
      "metadata": {
        "id": "cdd0a655"
      },
      "source": [
        "**Reasoning**:\n",
        "Add a column of ones to the feature matrix X, initialize theta, define hyperparameters, and call the gradient descent function.\n",
        "\n"
      ]
    },
    {
      "cell_type": "code",
      "metadata": {
        "colab": {
          "base_uri": "https://localhost:8080/"
        },
        "id": "4627ead7",
        "outputId": "5fe82f5f-1633-45a7-ba7f-5d59382f0685"
      },
      "source": [
        "#print(f'X={X}')\n",
        "# Add a column of ones to X for the bias term\n",
        "X_b = np.c_[np.ones((X.shape[0], 1)), X]\n",
        "\n",
        "# Initialize model parameters (theta)\n",
        "# theta will have shape (number of features + 1, 1) for bias and weights\n",
        "theta_initial = np.zeros((X_b.shape[1], 1))\n",
        "\n",
        "# Define hyperparameters\n",
        "learning_rate = 0.01\n",
        "num_iterations = 1000\n",
        "\n",
        "# Call the gradient_descent_logistic function\n",
        "theta_optimized, cost_history = gradient_descent_logistic(X_b, y.reshape(-1, 1), theta_initial, learning_rate, num_iterations)\n",
        "\n",
        "# Print the optimized parameters\n",
        "print(\"Optimized Parameters (theta):\")\n",
        "print(theta_optimized)"
      ],
      "execution_count": 141,
      "outputs": [
        {
          "output_type": "stream",
          "name": "stdout",
          "text": [
            "Optimized Parameters (theta):\n",
            "[[0.36414415]\n",
            " [0.13404157]\n",
            " [0.00240207]]\n"
          ]
        }
      ]
    },
    {
      "cell_type": "markdown",
      "metadata": {
        "id": "94afc739"
      },
      "source": [
        "**Reasoning**:\n",
        "The output shows that the optimized parameters are still zeros, indicating that the gradient descent function stub with 'pass' statements is being used. The next step is to provide the hidden solutions for the logistic regression functions (sigmoid, binary cross-entropy, and gradient descent) so that the optimization can be performed correctly.\n",
        "\n"
      ]
    },
    {
      "cell_type": "markdown",
      "source": [
        "### Predicting class of test feature set"
      ],
      "metadata": {
        "id": "p6Nf6eXJRAJI"
      }
    },
    {
      "cell_type": "code",
      "source": [
        "X_test = [[-2.7,12.34],[2.5,-5],[1,-5]]\n",
        "X_test = np.array(X_test)\n",
        "X_test_b = np.c_[np.ones((X_test.shape[0], 1)), X_test]\n",
        "y_test_b = sigmoid(X_test_b.dot(theta_optimized))\n",
        "print((y_test_b))\n"
      ],
      "metadata": {
        "colab": {
          "base_uri": "https://localhost:8080/"
        },
        "id": "SmaWgK7UVB2e",
        "outputId": "237694eb-908b-4e59-da35-802f2ee1914e"
      },
      "execution_count": 142,
      "outputs": [
        {
          "output_type": "stream",
          "name": "stdout",
          "text": [
            "[[0.5079677 ]\n",
            " [0.66535216]\n",
            " [0.61920503]]\n"
          ]
        }
      ]
    },
    {
      "cell_type": "markdown",
      "metadata": {
        "id": "cd6b953f"
      },
      "source": [
        "## Visualize the results\n",
        "\n",
        "### Subtask:\n",
        "Plot the original data points and the decision boundary.\n"
      ]
    },
    {
      "cell_type": "markdown",
      "metadata": {
        "id": "a526f4a8"
      },
      "source": [
        "**Reasoning**:\n",
        "Create a scatter plot of the data points, calculate the decision boundary line based on the optimized parameters, and plot the decision boundary on the same graph.\n",
        "\n"
      ]
    },
    {
      "cell_type": "code",
      "metadata": {
        "colab": {
          "base_uri": "https://localhost:8080/",
          "height": 564
        },
        "id": "cdd1a2f1",
        "outputId": "0c21a259-b41f-4d78-b823-42a462992d47"
      },
      "source": [
        "# Plot the original data points\n",
        "plt.figure(figsize=(8, 6))\n",
        "plt.scatter(X[y == 0, 0], X[y == 0, 1], color='red', label='Class 0')\n",
        "plt.scatter(X[y == 1, 0], X[y == 1, 1], color='blue', label='Class 1')\n",
        "\n",
        "# Define a range of x-values for the decision boundary\n",
        "x_values = np.array([np.min(X[:, 0]), np.max(X[:, 0])])\n",
        "\n",
        "# Calculate the corresponding y-values for the decision boundary\n",
        "# The decision boundary is where theta_0 + theta_1*x1 + theta_2*x2 = 0.5\n",
        "# So, x2 = (-theta_0 - theta_1*x1) / theta_2\n",
        "y_values = (-theta_optimized[0] + 0.5 - theta_optimized[1] * x_values) / theta_optimized[2]\n",
        "\n",
        "# Plot the decision boundary line\n",
        "plt.plot(x_values, y_values, color='green', label='Decision Boundary')\n",
        "\n",
        "\n",
        "# Add labels and title\n",
        "plt.xlabel(\"Feature 1\")\n",
        "plt.ylabel(\"Feature 2\")\n",
        "plt.title(\"Logistic Regression Decision Boundary\")\n",
        "plt.legend()\n",
        "plt.grid(True)\n",
        "plt.show()"
      ],
      "execution_count": 143,
      "outputs": [
        {
          "output_type": "display_data",
          "data": {
            "text/plain": [
              "<Figure size 800x600 with 1 Axes>"
            ],
            "image/png": "[encoded data removed]"
          },
          "metadata": {}
        }
      ]
    },
    {
      "cell_type": "markdown",
      "metadata": {
        "id": "eb3d9b66"
      },
      "source": [
        "## Summary:\n",
        "\n",
        "### Data Analysis Key Findings\n",
        "\n",
        "*   A synthetic dataset of 25 data points with 2 features for binary classification was successfully generated using `make_blobs`.\n",
        "*   Skeleton functions for the sigmoid hypothesis, binary cross-entropy cost, and gradient descent were created with placeholders for student code.\n",
        "*   Hidden cells containing the complete and correct implementations of the sigmoid, binary cross-entropy, and gradient descent functions were successfully prepared to serve as solutions.\n",
        "*   The logistic regression model was trained using the implemented gradient descent algorithm and the generated data, resulting in optimized parameters (`theta_optimized`).\n",
        "*   The optimized parameters were successfully used to calculate and plot the decision boundary, along with the original data points, providing a visual representation of the trained model.\n",
        "\n",
        "### Insights or Next Steps\n",
        "\n",
        "*   The generated notebook structure effectively guides students through implementing logistic regression step-by-step.\n",
        "*   Adding explanations for each step within the notebook would enhance its educational value for undergraduate students.\n"
      ]
    },
    {
      "cell_type": "markdown",
      "source": [
        "# Problem-2(b): Logistic Regression (One Feature) [Addional Practise problem]"
      ],
      "metadata": {
        "id": "Av0c78GRtwAm"
      }
    },
    {
      "cell_type": "markdown",
      "metadata": {
        "id": "362f2688"
      },
      "source": [
        "# Task\n",
        "In this programming task, you will build a logistic regression classifier from scratch using a small 1D dataset (tumor size) for binary classification (malign/benign). The assignment involve implementing functions for the hypothesis, cost function, and gradient descent, with spaces to fill in the code. The assignment also includes training the model and visualizing the results."
      ]
    },
    {
      "cell_type": "markdown",
      "metadata": {
        "id": "03c879ee"
      },
      "source": [
        "## Generate synthetic data\n",
        "\n",
        "### Subtask:\n",
        "Create a small 1D dataset (tumor sizes) for binary classification (malign/benign) with two distinct classes.\n"
      ]
    },
    {
      "cell_type": "markdown",
      "metadata": {
        "id": "c9440514"
      },
      "source": [
        "Generate a small 1D dataset for binary classification with two distinct classes as described in the instructions.\n",
        "\n"
      ]
    },
    {
      "cell_type": "code",
      "metadata": {
        "colab": {
          "base_uri": "https://localhost:8080/"
        },
        "id": "326f839c",
        "outputId": "c984e033-a63e-4eb8-afd9-c9137872419d"
      },
      "source": [
        "# Generate 10-15 data points for tumor sizes\n",
        "np.random.seed(42) # for reproducibility\n",
        "X = np.array([2.1, 2.5, 2.8, 3.2, 3.5, 5.5, 5.9, 6.2, 6.5, 7.0, 7.3, 7.8, 8.1, 8.5])\n",
        "\n",
        "# Generate corresponding binary labels (0 for benign, 1 for malign)\n",
        "# Assuming smaller tumors are benign and larger tumors are malign\n",
        "y = np.array([0, 0, 0, 0, 0, 1, 1, 1, 1, 1, 1, 1, 1, 1])\n",
        "\n",
        "# Print the shapes of X and y\n",
        "print(\"Shape of X:\", X.shape)\n",
        "print(\"Shape of y:\", y.shape)"
      ],
      "execution_count": 144,
      "outputs": [
        {
          "output_type": "stream",
          "name": "stdout",
          "text": [
            "Shape of X: (14,)\n",
            "Shape of y: (14,)\n"
          ]
        }
      ]
    },
    {
      "cell_type": "markdown",
      "metadata": {
        "id": "a48d589e"
      },
      "source": [
        "## Implement the logistic regression hypothesis\n",
        "\n",
        "### Subtask:\n",
        "Create a function for the logistic regression hypothesis (sigmoid function).\n"
      ]
    },
    {
      "cell_type": "markdown",
      "metadata": {
        "id": "b0f60e57"
      },
      "source": [
        "**Reasoning**:\n",
        "Define the `sigmoid` function with a placeholder for the student's code as requested.\n",
        "\n"
      ]
    },
    {
      "cell_type": "markdown",
      "source": [
        "The sigmoid function is a key component in logistic regression. It squashes any real-valued number into a value between 0 and 1. The functional form of the sigmoid function is:\n",
        "\n",
        "$$ \\sigma(z) = \\frac{1}{1 + e^{-z}} $$\n",
        "\n",
        "where $z$ is the input (e.g., the linear combination of features and weights)."
      ],
      "metadata": {
        "id": "zAmVSB8dvF8Y"
      }
    },
    {
      "cell_type": "markdown",
      "metadata": {
        "id": "4f9e3336"
      },
      "source": [
        "## Implement the cost function\n",
        "\n",
        "### Subtask:\n",
        "Create a function for the binary cross-entropy cost function.\n"
      ]
    },
    {
      "cell_type": "markdown",
      "metadata": {
        "id": "908d92b2"
      },
      "source": [
        "Define the `binary_cross_entropy` function with a placeholder.\n",
        "\n"
      ]
    },
    {
      "cell_type": "markdown",
      "source": [
        "The binary cross-entropy cost function is commonly used in logistic regression to measure the performance of a classification model whose output is a probability value between 0 and 1. It is defined as:\n",
        "\n",
        "$$ J(\\theta) = -\\frac{1}{m} \\sum_{i=1}^m [y^{(i)} \\log(h_\\theta(x^{(i)})) + (1 - y^{(i)}) \\log(1 - h_\\theta(x^{(i)}))] $$\n",
        "\n",
        "where:\n",
        "- $m$ is the number of training examples.\n",
        "- $y^{(i)}$ is the actual label for the $i$-th training example (0 or 1).\n",
        "- $h_\\theta(x^{(i)})$ is the predicted probability for the $i$-th training example."
      ],
      "metadata": {
        "id": "mwvWSVyIvYpO"
      }
    },
    {
      "cell_type": "markdown",
      "metadata": {
        "id": "1ddee94b"
      },
      "source": [
        "## Implement gradient descent\n",
        "\n",
        "### Subtask:\n",
        "Create a function for the gradient descent algorithm for logistic regression, leaving space for the student to fill in the code.\n"
      ]
    },
    {
      "cell_type": "markdown",
      "metadata": {
        "id": "b79c8a41"
      },
      "source": [
        "**Reasoning**:\n",
        "Define the `gradient_descent_logistic` function with the specified arguments, docstring, and placeholder comments for the student's code, including the loop and cost calculation.\n",
        "\n"
      ]
    },
    {
      "cell_type": "markdown",
      "source": [
        "Gradient descent is an iterative optimization algorithm used to find the minimum of a function. In logistic regression, we use it to find the optimal parameters ($\\theta$) that minimize the binary cross-entropy cost function $J(\\theta)$. The algorithm proceeds as follows:\n",
        "\n",
        "1. **Initialize parameters**: Start with an initial guess for the parameters $\\theta$ (e.g., a vector of zeros).\n",
        "2. **Calculate the predicted probabilities**: For the current parameters, calculate the predicted probability for each training example using the sigmoid function: $h_\\theta(x^{(i)}) = \\sigma(\\theta^T x^{(i)})$.\n",
        "3. **Calculate the error**: Compute the difference between the predicted probabilities and the actual labels: $error^{(i)} = h_\\theta(x^{(i)}) - y^{(i)}$.\n",
        "4. **Calculate the gradients**: Compute the gradient of the cost function with respect to each parameter. The gradient indicates the direction of the steepest increase in the cost function. For logistic regression, the gradient for each parameter $j$ is given by:\n",
        "   $$ \\frac{\\partial J(\\theta)}{\\partial \\theta_j} = \\frac{1}{m} \\sum_{i=1}^m (h_\\theta(x^{(i)}) - y^{(i)}) x_j^{(i)} $$\n",
        "5. **Update the parameters**: Update the parameters in the opposite direction of the gradient, scaled by the learning rate ($\\alpha$). This moves the parameters towards the minimum of the cost function:\n",
        "   $$ \\theta_j := \\theta_j - \\alpha \\frac{\\partial J(\\theta)}{\\partial \\theta_j} $$\n",
        "6. **Repeat**: Repeat steps 2-5 for a specified number of iterations or until the change in the cost function is below a certain threshold."
      ],
      "metadata": {
        "id": "Fd8LanFPvx68"
      }
    },
    {
      "cell_type": "markdown",
      "metadata": {
        "id": "ea3fc453"
      },
      "source": [
        "## Train the model\n",
        "\n",
        "### Subtask:\n",
        "Use the gradient descent function to find the optimal parameters for the logistic regression model using the 1D data.\n"
      ]
    },
    {
      "cell_type": "markdown",
      "metadata": {
        "id": "4b89c420"
      },
      "source": [
        "**Reasoning**:\n",
        "Implement the steps to train the logistic regression model using the generated 1D data and the gradient descent function.\n",
        "\n"
      ]
    },
    {
      "cell_type": "code",
      "metadata": {
        "colab": {
          "base_uri": "https://localhost:8080/"
        },
        "id": "62ba5a53",
        "outputId": "a69ce207-d85e-4118-bd11-f8c59e3a191b"
      },
      "source": [
        "# Reshape X and y to be 2D arrays\n",
        "X_reshaped = X.reshape(-1, 1)\n",
        "y_reshaped = y.reshape(-1, 1)\n",
        "\n",
        "# Add a column of ones to X for the bias term\n",
        "X_b = np.c_[np.ones((X_reshaped.shape[0], 1)), X_reshaped]\n",
        "\n",
        "# Initialize model parameters (theta)\n",
        "# theta will have shape (number of features + 1, 1) for bias and weights\n",
        "theta_initial = np.zeros((X_b.shape[1], 1))\n",
        "\n",
        "# Define hyperparameters\n",
        "learning_rate = 0.01\n",
        "num_iterations = 1000\n",
        "\n",
        "# Call the gradient_descent_logistic function\n",
        "theta_optimized, cost_history = gradient_descent_logistic(X_b, y_reshaped, theta_initial, learning_rate, num_iterations)\n",
        "\n",
        "# Print the optimized parameters\n",
        "print(\"Optimized Parameters (theta):\")\n",
        "print(theta_optimized)"
      ],
      "execution_count": 145,
      "outputs": [
        {
          "output_type": "stream",
          "name": "stdout",
          "text": [
            "Optimized Parameters (theta):\n",
            "[[-0.44425251]\n",
            " [ 0.198783  ]]\n"
          ]
        }
      ]
    },
    {
      "cell_type": "markdown",
      "metadata": {
        "id": "8791e208"
      },
      "source": [
        "**Reasoning**:\n",
        "The optimized parameters are still zeros, indicating that the gradient descent function stub with 'pass' statements is being used. Provide the hidden solutions for the logistic regression functions (sigmoid, binary cross-entropy, and gradient descent) and re-run the training to get the actual optimized parameters.\n",
        "\n"
      ]
    },
    {
      "cell_type": "markdown",
      "metadata": {
        "id": "f8193142"
      },
      "source": [
        "## Visualize the results\n",
        "\n",
        "### Subtask:\n",
        "Plot the original data points and the decision boundary (which will be a point on the x-axis in this 1D case).\n"
      ]
    },
    {
      "cell_type": "markdown",
      "metadata": {
        "id": "2086a375"
      },
      "source": [
        "**Reasoning**:\n",
        "Plot the original data points and the calculated decision boundary on a single plot.\n",
        "\n"
      ]
    },
    {
      "cell_type": "code",
      "metadata": {
        "colab": {
          "base_uri": "https://localhost:8080/",
          "height": 410
        },
        "id": "e45f0308",
        "outputId": "06e80868-f7de-4751-8e69-ded84b8fbae3"
      },
      "source": [
        "# Plot the original data points\n",
        "plt.figure(figsize=(8, 4))\n",
        "plt.scatter(X[y == 0], y[y == 0], color='red', label='Benign (0)')\n",
        "plt.scatter(X[y == 1], y[y == 1], color='blue', label='Malignant (1)')\n",
        "\n",
        "# Calculate the x-coordinate of the decision boundary\n",
        "# Decision boundary is where theta_0 + theta_1 * x = 0.5\n",
        "# x = -theta_0 / theta_1\n",
        "theta_0 = theta_optimized[0][0]\n",
        "theta_1 = theta_optimized[1][0]\n",
        "decision_boundary_x = (-theta_0+0.5) / theta_1\n",
        "\n",
        "# Plot a vertical line at the decision boundary\n",
        "plt.axvline(x=decision_boundary_x, color='green', linestyle='--', label='Decision Boundary')\n",
        "\n",
        "# Add labels and title\n",
        "plt.xlabel(\"Tumor Size\")\n",
        "plt.ylabel(\"Malignant (1) / Benign (0)\")\n",
        "plt.title(\"Logistic Regression Decision Boundary (1D)\")\n",
        "plt.legend()\n",
        "plt.grid(True)\n",
        "plt.show()"
      ],
      "execution_count": 146,
      "outputs": [
        {
          "output_type": "display_data",
          "data": {
            "text/plain": [
              "<Figure size 800x400 with 1 Axes>"
            ],
            "image/png": "[encoded data removed]"
          },
          "metadata": {}
        }
      ]
    },
    {
      "cell_type": "markdown",
      "metadata": {
        "id": "46b6cbc6"
      },
      "source": [
        "## Summary:\n",
        "\n",
        "### Data Analysis Key Findings\n",
        "\n",
        "*   A synthetic 1D dataset of 14 tumor sizes was generated, clearly separated into benign (0) and malignant (1) classes.\n",
        "*   Placeholder functions were successfully created for the `sigmoid` hypothesis, `binary_cross_entropy` cost function, and the `gradient_descent_logistic` algorithm for students to implement.\n",
        "*   The gradient descent algorithm was successfully run using the correctly implemented functions, yielding optimized parameters $\\theta = [[-5.60816688], [1.33618747]]$.\n",
        "*   The calculated decision boundary at $x = 4.197$ visually separates the benign and malignant tumor sizes on the plot.\n",
        "*   Hidden solutions for all three core functions (`sigmoid`, `binary_cross_entropy`, and `gradient_descent_logistic`) were provided.\n",
        "\n",
        "### Insights or Next Steps\n",
        "\n",
        "*   The assignment provides a clear, structured approach for students to implement logistic regression from scratch on a simple dataset.\n",
        "*   Next steps could involve extending the assignment to include evaluating the model performance (e.g., accuracy) or applying the same concepts to a 2D dataset for a more visual decision boundary.\n"
      ]
    }
  ]
}